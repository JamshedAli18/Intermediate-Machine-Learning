{
  "metadata": {
    "kernelspec": {
      "display_name": "Python 3",
      "language": "python",
      "name": "python3"
    },
    "language_info": {
      "name": "python",
      "version": "3.10.13",
      "mimetype": "text/x-python",
      "codemirror_mode": {
        "name": "ipython",
        "version": 3
      },
      "pygments_lexer": "ipython3",
      "nbconvert_exporter": "python",
      "file_extension": ".py"
    },
    "kaggle": {
      "accelerator": "none",
      "dataSources": [
        {
          "sourceId": 10211,
          "databundleVersionId": 111096,
          "sourceType": "competition"
        }
      ],
      "isInternetEnabled": false,
      "language": "python",
      "sourceType": "notebook",
      "isGpuEnabled": false
    },
    "colab": {
      "name": "Exercise: Missing Values",
      "provenance": [],
      "include_colab_link": true
    }
  },
  "nbformat_minor": 0,
  "nbformat": 4,
  "cells": [
    {
      "cell_type": "markdown",
      "metadata": {
        "id": "view-in-github",
        "colab_type": "text"
      },
      "source": [
        "<a href=\"https://colab.research.google.com/github/JamshedAli18/Intermediate-Machine-Learning/blob/main/Exercise_Missing_Values.ipynb\" target=\"_parent\"><img src=\"https://colab.research.google.com/assets/colab-badge.svg\" alt=\"Open In Colab\"/></a>"
      ]
    },
    {
      "source": [
        "\n",
        "# IMPORTANT: RUN THIS CELL IN ORDER TO IMPORT YOUR KAGGLE DATA SOURCES\n",
        "# TO THE CORRECT LOCATION (/kaggle/input) IN YOUR NOTEBOOK,\n",
        "# THEN FEEL FREE TO DELETE THIS CELL.\n",
        "# NOTE: THIS NOTEBOOK ENVIRONMENT DIFFERS FROM KAGGLE'S PYTHON\n",
        "# ENVIRONMENT SO THERE MAY BE MISSING LIBRARIES USED BY YOUR\n",
        "# NOTEBOOK.\n",
        "\n",
        "import os\n",
        "import sys\n",
        "from tempfile import NamedTemporaryFile\n",
        "from urllib.request import urlopen\n",
        "from urllib.parse import unquote, urlparse\n",
        "from urllib.error import HTTPError\n",
        "from zipfile import ZipFile\n",
        "import tarfile\n",
        "import shutil\n",
        "\n",
        "CHUNK_SIZE = 40960\n",
        "DATA_SOURCE_MAPPING = ':https%3A%2F%2Fstorage.googleapis.com%2Fkaggle-competitions-data%2Fkaggle-v2%2F10211%2F111096%2Fbundle%2Farchive.zip%3FX-Goog-Algorithm%3DGOOG4-RSA-SHA256%26X-Goog-Credential%3Dgcp-kaggle-com%2540kaggle-161607.iam.gserviceaccount.com%252F20240716%252Fauto%252Fstorage%252Fgoog4_request%26X-Goog-Date%3D20240716T162413Z%26X-Goog-Expires%3D259200%26X-Goog-SignedHeaders%3Dhost%26X-Goog-Signature%3D5819120011b014913c44dd0eba79813bc024fb808a75ebbfa52895aa6171693cece381da24a222941c8de5b9e638749937b8d391a520c08e76da430c7243b3abc8ab2efd5c683272616399fa41749c6b66b6f9e7b66538311193dfbb93be22df381286e1fc3ca0b550954873d9da37d5e70dea506f518991c113ea5756f5f97415a24dd0ee92a193b87eb89c22f968cb6c65c04ddde865c7c8582b0bbf9e85a997ca83136ba2b695946bbb2128e73da9f5418e649220332731eab955ae75113427d1e373b83b0fc9ef6cf1e1b9f61f2f3591d12556063412eb4be326b7604999154a4b1c4f18393ce4ed9a61f46fd3b07d1537bdcd8193e1a6f3f129b67d0491'\n",
        "\n",
        "KAGGLE_INPUT_PATH='/kaggle/input'\n",
        "KAGGLE_WORKING_PATH='/kaggle/working'\n",
        "KAGGLE_SYMLINK='kaggle'\n",
        "\n",
        "!umount /kaggle/input/ 2> /dev/null\n",
        "shutil.rmtree('/kaggle/input', ignore_errors=True)\n",
        "os.makedirs(KAGGLE_INPUT_PATH, 0o777, exist_ok=True)\n",
        "os.makedirs(KAGGLE_WORKING_PATH, 0o777, exist_ok=True)\n",
        "\n",
        "try:\n",
        "  os.symlink(KAGGLE_INPUT_PATH, os.path.join(\"..\", 'input'), target_is_directory=True)\n",
        "except FileExistsError:\n",
        "  pass\n",
        "try:\n",
        "  os.symlink(KAGGLE_WORKING_PATH, os.path.join(\"..\", 'working'), target_is_directory=True)\n",
        "except FileExistsError:\n",
        "  pass\n",
        "\n",
        "for data_source_mapping in DATA_SOURCE_MAPPING.split(','):\n",
        "    directory, download_url_encoded = data_source_mapping.split(':')\n",
        "    download_url = unquote(download_url_encoded)\n",
        "    filename = urlparse(download_url).path\n",
        "    destination_path = os.path.join(KAGGLE_INPUT_PATH, directory)\n",
        "    try:\n",
        "        with urlopen(download_url) as fileres, NamedTemporaryFile() as tfile:\n",
        "            total_length = fileres.headers['content-length']\n",
        "            print(f'Downloading {directory}, {total_length} bytes compressed')\n",
        "            dl = 0\n",
        "            data = fileres.read(CHUNK_SIZE)\n",
        "            while len(data) > 0:\n",
        "                dl += len(data)\n",
        "                tfile.write(data)\n",
        "                done = int(50 * dl / int(total_length))\n",
        "                sys.stdout.write(f\"\\r[{'=' * done}{' ' * (50-done)}] {dl} bytes downloaded\")\n",
        "                sys.stdout.flush()\n",
        "                data = fileres.read(CHUNK_SIZE)\n",
        "            if filename.endswith('.zip'):\n",
        "              with ZipFile(tfile) as zfile:\n",
        "                zfile.extractall(destination_path)\n",
        "            else:\n",
        "              with tarfile.open(tfile.name) as tarfile:\n",
        "                tarfile.extractall(destination_path)\n",
        "            print(f'\\nDownloaded and uncompressed: {directory}')\n",
        "    except HTTPError as e:\n",
        "        print(f'Failed to load (likely expired) {download_url} to path {destination_path}')\n",
        "        continue\n",
        "    except OSError as e:\n",
        "        print(f'Failed to load {download_url} to path {destination_path}')\n",
        "        continue\n",
        "\n",
        "print('Data source import complete.')\n"
      ],
      "metadata": {
        "id": "IAwT-gVvXBx6"
      },
      "cell_type": "code",
      "outputs": [],
      "execution_count": null
    },
    {
      "cell_type": "markdown",
      "source": [
        "**This notebook is an exercise in the [Intermediate Machine Learning](https://www.kaggle.com/learn/intermediate-machine-learning) course.  You can reference the tutorial at [this link](https://www.kaggle.com/alexisbcook/missing-values).**\n",
        "\n",
        "---\n"
      ],
      "metadata": {
        "id": "AU5gOh5bXByA"
      }
    },
    {
      "cell_type": "markdown",
      "source": [
        "Now it's your turn to test your new knowledge of **missing values** handling. You'll probably find it makes a big difference.\n",
        "\n",
        "# Setup\n",
        "\n",
        "The questions will give you feedback on your work. Run the following cell to set up the feedback system."
      ],
      "metadata": {
        "id": "2WdH-vlTXByC"
      }
    },
    {
      "cell_type": "code",
      "source": [
        "# Set up code checking\n",
        "import os\n",
        "if not os.path.exists(\"../input/train.csv\"):\n",
        "    os.symlink(\"../input/home-data-for-ml-course/train.csv\", \"../input/train.csv\")\n",
        "    os.symlink(\"../input/home-data-for-ml-course/test.csv\", \"../input/test.csv\")\n",
        "from learntools.core import binder\n",
        "binder.bind(globals())\n",
        "from learntools.ml_intermediate.ex2 import *\n",
        "print(\"Setup Complete\")"
      ],
      "metadata": {
        "execution": {
          "iopub.status.busy": "2024-07-16T16:16:06.271954Z",
          "iopub.execute_input": "2024-07-16T16:16:06.272982Z",
          "iopub.status.idle": "2024-07-16T16:16:06.279931Z",
          "shell.execute_reply.started": "2024-07-16T16:16:06.272939Z",
          "shell.execute_reply": "2024-07-16T16:16:06.278886Z"
        },
        "trusted": true,
        "id": "_QPOyOs1XByD",
        "outputId": "c3eed118-cbc0-406f-de70-2e33db914d98"
      },
      "execution_count": null,
      "outputs": [
        {
          "name": "stdout",
          "text": "Setup Complete\n",
          "output_type": "stream"
        }
      ]
    },
    {
      "cell_type": "markdown",
      "source": [
        "In this exercise, you will work with data from the [Housing Prices Competition for Kaggle Learn Users](https://www.kaggle.com/c/home-data-for-ml-course).\n",
        "\n",
        "![Ames Housing dataset image](https://storage.googleapis.com/kaggle-media/learn/images/lTJVG4e.png)\n",
        "\n",
        "Run the next code cell without changes to load the training and validation sets in `X_train`, `X_valid`, `y_train`, and `y_valid`.  The test set is loaded in `X_test`."
      ],
      "metadata": {
        "id": "o3JZUbqfXByE"
      }
    },
    {
      "cell_type": "code",
      "source": [
        "import pandas as pd\n",
        "from sklearn.model_selection import train_test_split\n",
        "\n",
        "# Read the data\n",
        "X_full = pd.read_csv('../input/train.csv', index_col='Id')\n",
        "X_test_full = pd.read_csv('../input/test.csv', index_col='Id')\n",
        "\n",
        "# Remove rows with missing target, separate target from predictors\n",
        "X_full.dropna(axis=0, subset=['SalePrice'], inplace=True)\n",
        "y = X_full.SalePrice\n",
        "X_full.drop(['SalePrice'], axis=1, inplace=True)\n",
        "\n",
        "# To keep things simple, we'll use only numerical predictors\n",
        "X = X_full.select_dtypes(exclude=['object'])\n",
        "X_test = X_test_full.select_dtypes(exclude=['object'])\n",
        "\n",
        "# Break off validation set from training data\n",
        "X_train, X_valid, y_train, y_valid = train_test_split(X, y, train_size=0.8, test_size=0.2,\n",
        "                                                      random_state=0)"
      ],
      "metadata": {
        "execution": {
          "iopub.status.busy": "2024-07-16T16:16:57.814541Z",
          "iopub.execute_input": "2024-07-16T16:16:57.814952Z",
          "iopub.status.idle": "2024-07-16T16:16:57.872305Z",
          "shell.execute_reply.started": "2024-07-16T16:16:57.814921Z",
          "shell.execute_reply": "2024-07-16T16:16:57.87108Z"
        },
        "trusted": true,
        "id": "jXEDnSuZXByE"
      },
      "execution_count": null,
      "outputs": []
    },
    {
      "cell_type": "markdown",
      "source": [
        "Use the next code cell to print the first five rows of the data."
      ],
      "metadata": {
        "id": "aEDmgKkCXByF"
      }
    },
    {
      "cell_type": "code",
      "source": [
        "X_train.head()"
      ],
      "metadata": {
        "execution": {
          "iopub.status.busy": "2024-07-16T16:01:28.002828Z",
          "iopub.execute_input": "2024-07-16T16:01:28.003755Z",
          "iopub.status.idle": "2024-07-16T16:01:28.043016Z",
          "shell.execute_reply.started": "2024-07-16T16:01:28.003697Z",
          "shell.execute_reply": "2024-07-16T16:01:28.04186Z"
        },
        "trusted": true,
        "id": "ZPTF_W8kXByF",
        "outputId": "9651f96d-dd6f-4989-92f7-774a25d8c08f"
      },
      "execution_count": null,
      "outputs": [
        {
          "execution_count": 5,
          "output_type": "execute_result",
          "data": {
            "text/plain": "     MSSubClass  LotFrontage  LotArea  OverallQual  OverallCond  YearBuilt  \\\nId                                                                           \n619          20         90.0    11694            9            5       2007   \n871          20         60.0     6600            5            5       1962   \n93           30         80.0    13360            5            7       1921   \n818          20          NaN    13265            8            5       2002   \n303          20        118.0    13704            7            5       2001   \n\n     YearRemodAdd  MasVnrArea  BsmtFinSF1  BsmtFinSF2  ...  GarageArea  \\\nId                                                     ...               \n619          2007       452.0          48           0  ...         774   \n871          1962         0.0           0           0  ...         308   \n93           2006         0.0         713           0  ...         432   \n818          2002       148.0        1218           0  ...         857   \n303          2002       150.0           0           0  ...         843   \n\n     WoodDeckSF  OpenPorchSF  EnclosedPorch  3SsnPorch  ScreenPorch  PoolArea  \\\nId                                                                              \n619           0          108              0          0          260         0   \n871           0            0              0          0            0         0   \n93            0            0             44          0            0         0   \n818         150           59              0          0            0         0   \n303         468           81              0          0            0         0   \n\n     MiscVal  MoSold  YrSold  \nId                            \n619        0       7    2007  \n871        0       8    2009  \n93         0       8    2009  \n818        0       7    2008  \n303        0       1    2006  \n\n[5 rows x 36 columns]",
            "text/html": "<div>\n<style scoped>\n    .dataframe tbody tr th:only-of-type {\n        vertical-align: middle;\n    }\n\n    .dataframe tbody tr th {\n        vertical-align: top;\n    }\n\n    .dataframe thead th {\n        text-align: right;\n    }\n</style>\n<table border=\"1\" class=\"dataframe\">\n  <thead>\n    <tr style=\"text-align: right;\">\n      <th></th>\n      <th>MSSubClass</th>\n      <th>LotFrontage</th>\n      <th>LotArea</th>\n      <th>OverallQual</th>\n      <th>OverallCond</th>\n      <th>YearBuilt</th>\n      <th>YearRemodAdd</th>\n      <th>MasVnrArea</th>\n      <th>BsmtFinSF1</th>\n      <th>BsmtFinSF2</th>\n      <th>...</th>\n      <th>GarageArea</th>\n      <th>WoodDeckSF</th>\n      <th>OpenPorchSF</th>\n      <th>EnclosedPorch</th>\n      <th>3SsnPorch</th>\n      <th>ScreenPorch</th>\n      <th>PoolArea</th>\n      <th>MiscVal</th>\n      <th>MoSold</th>\n      <th>YrSold</th>\n    </tr>\n    <tr>\n      <th>Id</th>\n      <th></th>\n      <th></th>\n      <th></th>\n      <th></th>\n      <th></th>\n      <th></th>\n      <th></th>\n      <th></th>\n      <th></th>\n      <th></th>\n      <th></th>\n      <th></th>\n      <th></th>\n      <th></th>\n      <th></th>\n      <th></th>\n      <th></th>\n      <th></th>\n      <th></th>\n      <th></th>\n      <th></th>\n    </tr>\n  </thead>\n  <tbody>\n    <tr>\n      <th>619</th>\n      <td>20</td>\n      <td>90.0</td>\n      <td>11694</td>\n      <td>9</td>\n      <td>5</td>\n      <td>2007</td>\n      <td>2007</td>\n      <td>452.0</td>\n      <td>48</td>\n      <td>0</td>\n      <td>...</td>\n      <td>774</td>\n      <td>0</td>\n      <td>108</td>\n      <td>0</td>\n      <td>0</td>\n      <td>260</td>\n      <td>0</td>\n      <td>0</td>\n      <td>7</td>\n      <td>2007</td>\n    </tr>\n    <tr>\n      <th>871</th>\n      <td>20</td>\n      <td>60.0</td>\n      <td>6600</td>\n      <td>5</td>\n      <td>5</td>\n      <td>1962</td>\n      <td>1962</td>\n      <td>0.0</td>\n      <td>0</td>\n      <td>0</td>\n      <td>...</td>\n      <td>308</td>\n      <td>0</td>\n      <td>0</td>\n      <td>0</td>\n      <td>0</td>\n      <td>0</td>\n      <td>0</td>\n      <td>0</td>\n      <td>8</td>\n      <td>2009</td>\n    </tr>\n    <tr>\n      <th>93</th>\n      <td>30</td>\n      <td>80.0</td>\n      <td>13360</td>\n      <td>5</td>\n      <td>7</td>\n      <td>1921</td>\n      <td>2006</td>\n      <td>0.0</td>\n      <td>713</td>\n      <td>0</td>\n      <td>...</td>\n      <td>432</td>\n      <td>0</td>\n      <td>0</td>\n      <td>44</td>\n      <td>0</td>\n      <td>0</td>\n      <td>0</td>\n      <td>0</td>\n      <td>8</td>\n      <td>2009</td>\n    </tr>\n    <tr>\n      <th>818</th>\n      <td>20</td>\n      <td>NaN</td>\n      <td>13265</td>\n      <td>8</td>\n      <td>5</td>\n      <td>2002</td>\n      <td>2002</td>\n      <td>148.0</td>\n      <td>1218</td>\n      <td>0</td>\n      <td>...</td>\n      <td>857</td>\n      <td>150</td>\n      <td>59</td>\n      <td>0</td>\n      <td>0</td>\n      <td>0</td>\n      <td>0</td>\n      <td>0</td>\n      <td>7</td>\n      <td>2008</td>\n    </tr>\n    <tr>\n      <th>303</th>\n      <td>20</td>\n      <td>118.0</td>\n      <td>13704</td>\n      <td>7</td>\n      <td>5</td>\n      <td>2001</td>\n      <td>2002</td>\n      <td>150.0</td>\n      <td>0</td>\n      <td>0</td>\n      <td>...</td>\n      <td>843</td>\n      <td>468</td>\n      <td>81</td>\n      <td>0</td>\n      <td>0</td>\n      <td>0</td>\n      <td>0</td>\n      <td>0</td>\n      <td>1</td>\n      <td>2006</td>\n    </tr>\n  </tbody>\n</table>\n<p>5 rows × 36 columns</p>\n</div>"
          },
          "metadata": {}
        }
      ]
    },
    {
      "cell_type": "markdown",
      "source": [
        "You can already see a few missing values in the first several rows.  In the next step, you'll obtain a more comprehensive understanding of the missing values in the dataset.\n",
        "\n",
        "# Step 1: Preliminary investigation\n",
        "\n",
        "Run the code cell below without changes."
      ],
      "metadata": {
        "id": "WW_j8mtcXByG"
      }
    },
    {
      "cell_type": "code",
      "source": [
        "# Shape of training data (num_rows, num_columns)\n",
        "print(X_train.shape)\n",
        "\n",
        "# Number of missing values in each column of training data\n",
        "missing_val_count_by_column = (X_train.isnull().sum())\n",
        "print(missing_val_count_by_column[missing_val_count_by_column > 0])"
      ],
      "metadata": {
        "execution": {
          "iopub.status.busy": "2024-07-16T16:01:34.089345Z",
          "iopub.execute_input": "2024-07-16T16:01:34.089744Z",
          "iopub.status.idle": "2024-07-16T16:01:34.097387Z",
          "shell.execute_reply.started": "2024-07-16T16:01:34.089716Z",
          "shell.execute_reply": "2024-07-16T16:01:34.0962Z"
        },
        "trusted": true,
        "id": "hW-tpv16XByH",
        "outputId": "97f1438e-39ce-4600-8815-8f308c3b8e1f"
      },
      "execution_count": null,
      "outputs": [
        {
          "name": "stdout",
          "text": "(1168, 36)\nLotFrontage    212\nMasVnrArea       6\nGarageYrBlt     58\ndtype: int64\n",
          "output_type": "stream"
        }
      ]
    },
    {
      "cell_type": "markdown",
      "source": [
        "### Part A\n",
        "\n",
        "Use the above output to answer the questions below."
      ],
      "metadata": {
        "id": "m6bfs_FrXByH"
      }
    },
    {
      "cell_type": "code",
      "source": [
        "\n",
        "\n",
        "# How many rows are in the training data?\n",
        "num_rows = 1168\n",
        "\n",
        "# How many columns in the training data have missing values?\n",
        "num_cols_with_missing = 3\n",
        "\n",
        "# How many missing entries are contained in all of the training data?\n",
        "tot_missing = 212 + 6 + 58\n",
        "step_1.a.check()"
      ],
      "metadata": {
        "execution": {
          "iopub.status.busy": "2024-07-16T16:01:42.326589Z",
          "iopub.execute_input": "2024-07-16T16:01:42.327005Z",
          "iopub.status.idle": "2024-07-16T16:01:42.336903Z",
          "shell.execute_reply.started": "2024-07-16T16:01:42.326973Z",
          "shell.execute_reply": "2024-07-16T16:01:42.335777Z"
        },
        "trusted": true,
        "id": "KkZEIVilXByH",
        "outputId": "21f15a79-1cb9-4fd8-add4-824f4fbedd66"
      },
      "execution_count": null,
      "outputs": [
        {
          "output_type": "display_data",
          "data": {
            "text/plain": "<IPython.core.display.Javascript object>",
            "application/javascript": "parent.postMessage({\"jupyterEvent\": \"custom.exercise_interaction\", \"data\": {\"outcomeType\": 1, \"valueTowardsCompletion\": 1.0, \"interactionType\": 1, \"questionType\": 1, \"questionId\": \"1.1_InvestigateEquality\", \"learnToolsVersion\": \"0.3.4\", \"failureMessage\": \"\", \"exceptionClass\": \"\", \"trace\": \"\"}}, \"*\")"
          },
          "metadata": {}
        },
        {
          "output_type": "display_data",
          "data": {
            "text/plain": "Correct",
            "text/markdown": "<span style=\"color:#33cc33\">Correct</span>"
          },
          "metadata": {}
        }
      ]
    },
    {
      "cell_type": "code",
      "source": [
        "# Lines below will give you a hint or solution code\n",
        "#step_1.a.hint()\n",
        "# step_1.a.solution()"
      ],
      "metadata": {
        "execution": {
          "iopub.status.busy": "2024-07-15T15:05:49.989021Z",
          "iopub.execute_input": "2024-07-15T15:05:49.989659Z",
          "iopub.status.idle": "2024-07-15T15:05:49.995672Z",
          "shell.execute_reply.started": "2024-07-15T15:05:49.989597Z",
          "shell.execute_reply": "2024-07-15T15:05:49.994384Z"
        },
        "trusted": true,
        "id": "dMK7Z4_fXByI"
      },
      "execution_count": null,
      "outputs": []
    },
    {
      "cell_type": "markdown",
      "source": [
        "### Part B\n",
        "Considering your answers above, what do you think is likely the best approach to dealing with the missing values?"
      ],
      "metadata": {
        "id": "LbaITsGqXByI"
      }
    },
    {
      "cell_type": "code",
      "source": [
        "# Check your answer (Run this code cell to receive credit!)\n",
        "step_1.b.check()"
      ],
      "metadata": {
        "execution": {
          "iopub.status.busy": "2024-07-16T16:01:49.029694Z",
          "iopub.execute_input": "2024-07-16T16:01:49.030116Z",
          "iopub.status.idle": "2024-07-16T16:01:49.03934Z",
          "shell.execute_reply.started": "2024-07-16T16:01:49.030085Z",
          "shell.execute_reply": "2024-07-16T16:01:49.038176Z"
        },
        "trusted": true,
        "id": "AMjw-zDsXByI",
        "outputId": "8e6f34ce-57c1-461d-e41b-eac10c84204d"
      },
      "execution_count": null,
      "outputs": [
        {
          "output_type": "display_data",
          "data": {
            "text/plain": "<IPython.core.display.Javascript object>",
            "application/javascript": "parent.postMessage({\"jupyterEvent\": \"custom.exercise_interaction\", \"data\": {\"outcomeType\": 1, \"valueTowardsCompletion\": 1.0, \"interactionType\": 1, \"questionType\": 4, \"questionId\": \"1.2_InvestigateThought\", \"learnToolsVersion\": \"0.3.4\", \"failureMessage\": \"\", \"exceptionClass\": \"\", \"trace\": \"\"}}, \"*\")"
          },
          "metadata": {}
        },
        {
          "output_type": "display_data",
          "data": {
            "text/plain": "Correct: \n\nSince there are relatively few missing entries in the data (the column with the greatest percentage of missing values is missing less than 20% of its entries), we can expect that dropping columns is unlikely to yield good results.  This is because we'd be throwing away a lot of valuable data, and so imputation will likely perform better.",
            "text/markdown": "<span style=\"color:#33cc33\">Correct:</span> \n\nSince there are relatively few missing entries in the data (the column with the greatest percentage of missing values is missing less than 20% of its entries), we can expect that dropping columns is unlikely to yield good results.  This is because we'd be throwing away a lot of valuable data, and so imputation will likely perform better."
          },
          "metadata": {}
        }
      ]
    },
    {
      "cell_type": "code",
      "source": [
        "#step_1.b.hint()"
      ],
      "metadata": {
        "id": "CofuDpXKXByJ"
      },
      "execution_count": null,
      "outputs": []
    },
    {
      "cell_type": "markdown",
      "source": [
        "To compare different approaches to dealing with missing values, you'll use the same `score_dataset()` function from the tutorial.  This function reports the [mean absolute error](https://en.wikipedia.org/wiki/Mean_absolute_error) (MAE) from a random forest model."
      ],
      "metadata": {
        "id": "B1kpL2GJXByJ"
      }
    },
    {
      "cell_type": "code",
      "source": [
        "from sklearn.ensemble import RandomForestRegressor\n",
        "from sklearn.metrics import mean_absolute_error\n",
        "\n",
        "# Function for comparing different approaches\n",
        "def score_dataset(X_train, X_valid, y_train, y_valid):\n",
        "    model = RandomForestRegressor(n_estimators=100, random_state=0)\n",
        "    model.fit(X_train, y_train)\n",
        "    preds = model.predict(X_valid)\n",
        "    return mean_absolute_error(y_valid, preds)"
      ],
      "metadata": {
        "execution": {
          "iopub.status.busy": "2024-07-16T16:01:53.556902Z",
          "iopub.execute_input": "2024-07-16T16:01:53.557518Z",
          "iopub.status.idle": "2024-07-16T16:01:53.910951Z",
          "shell.execute_reply.started": "2024-07-16T16:01:53.557479Z",
          "shell.execute_reply": "2024-07-16T16:01:53.909391Z"
        },
        "trusted": true,
        "id": "YHHvnNKxXByJ"
      },
      "execution_count": null,
      "outputs": []
    },
    {
      "cell_type": "markdown",
      "source": [
        "# Step 2: Drop columns with missing values\n",
        "\n",
        "In this step, you'll preprocess the data in `X_train` and `X_valid` to remove columns with missing values.  Set the preprocessed DataFrames to `reduced_X_train` and `reduced_X_valid`, respectively.  "
      ],
      "metadata": {
        "id": "l_VmzUF_XByJ"
      }
    },
    {
      "cell_type": "code",
      "source": [
        "# Get names of columns with missing values\n",
        "cols_with_missing = [col for col in X_train.columns\n",
        "                     if X_train[col].isnull().any()]\n",
        "\n",
        "# Drop columns in training and validation data\n",
        "reduced_X_train = X_train.drop(cols_with_missing, axis=1)\n",
        "reduced_X_valid = X_valid.drop(cols_with_missing, axis=1)\n",
        "step_2.check()"
      ],
      "metadata": {
        "execution": {
          "iopub.status.busy": "2024-07-16T16:02:45.045203Z",
          "iopub.execute_input": "2024-07-16T16:02:45.046081Z",
          "iopub.status.idle": "2024-07-16T16:02:45.073581Z",
          "shell.execute_reply.started": "2024-07-16T16:02:45.046041Z",
          "shell.execute_reply": "2024-07-16T16:02:45.072447Z"
        },
        "trusted": true,
        "id": "5-zRzAdXXByJ",
        "outputId": "05ec9bed-aca7-4e3e-f2b8-f33bb3ef0aba"
      },
      "execution_count": null,
      "outputs": [
        {
          "output_type": "display_data",
          "data": {
            "text/plain": "<IPython.core.display.Javascript object>",
            "application/javascript": "parent.postMessage({\"jupyterEvent\": \"custom.exercise_interaction\", \"data\": {\"outcomeType\": 1, \"valueTowardsCompletion\": 1.0, \"interactionType\": 1, \"questionType\": 2, \"questionId\": \"2_DropMissing\", \"learnToolsVersion\": \"0.3.4\", \"failureMessage\": \"\", \"exceptionClass\": \"\", \"trace\": \"\"}}, \"*\")"
          },
          "metadata": {}
        },
        {
          "output_type": "display_data",
          "data": {
            "text/plain": "Correct",
            "text/markdown": "<span style=\"color:#33cc33\">Correct</span>"
          },
          "metadata": {}
        }
      ]
    },
    {
      "cell_type": "code",
      "source": [
        "# Lines below will give you a hint or solution code\n",
        "#step_2.hint()\n",
        "#step_2.solution()"
      ],
      "metadata": {
        "id": "jwSw_FXZXByK"
      },
      "execution_count": null,
      "outputs": []
    },
    {
      "cell_type": "markdown",
      "source": [
        "Run the next code cell without changes to obtain the MAE for this approach."
      ],
      "metadata": {
        "id": "Y7lremPKXByK"
      }
    },
    {
      "cell_type": "code",
      "source": [
        "print(\"MAE (Drop columns with missing values):\")\n",
        "print(score_dataset(reduced_X_train, reduced_X_valid, y_train, y_valid))"
      ],
      "metadata": {
        "execution": {
          "iopub.status.busy": "2024-07-16T16:16:13.51084Z",
          "iopub.execute_input": "2024-07-16T16:16:13.511242Z",
          "iopub.status.idle": "2024-07-16T16:16:14.873152Z",
          "shell.execute_reply.started": "2024-07-16T16:16:13.51121Z",
          "shell.execute_reply": "2024-07-16T16:16:14.871922Z"
        },
        "trusted": true,
        "id": "DvwBIDtOXByK",
        "outputId": "964dd092-1e68-4bc7-d924-5e74b0ed401c"
      },
      "execution_count": null,
      "outputs": [
        {
          "name": "stdout",
          "text": "MAE (Drop columns with missing values):\n17837.82570776256\n",
          "output_type": "stream"
        }
      ]
    },
    {
      "cell_type": "markdown",
      "source": [
        "# Step 3: Imputation\n",
        "\n",
        "### Part A\n",
        "\n",
        "Use the next code cell to impute missing values with the mean value along each column.  Set the preprocessed DataFrames to `imputed_X_train` and `imputed_X_valid`.  Make sure that the column names match those in `X_train` and `X_valid`."
      ],
      "metadata": {
        "id": "JxgpymTRXByK"
      }
    },
    {
      "cell_type": "code",
      "source": [
        "# Imputation\n",
        "from sklearn.impute import SimpleImputer\n",
        "my_imputer = SimpleImputer()\n",
        "imputed_X_train = pd.DataFrame(my_imputer.fit_transform(X_train))\n",
        "imputed_X_valid = pd.DataFrame(my_imputer.transform(X_valid))\n",
        "\n",
        "# Imputation removed column names; put them back\n",
        "imputed_X_train.columns = X_train.columns\n",
        "imputed_X_valid.columns = X_valid.columns\n",
        "step_3.a.check()"
      ],
      "metadata": {
        "execution": {
          "iopub.status.busy": "2024-07-16T16:18:17.620602Z",
          "iopub.execute_input": "2024-07-16T16:18:17.621331Z",
          "iopub.status.idle": "2024-07-16T16:18:17.661726Z",
          "shell.execute_reply.started": "2024-07-16T16:18:17.621288Z",
          "shell.execute_reply": "2024-07-16T16:18:17.660577Z"
        },
        "trusted": true,
        "id": "DMN2-9qnXByK",
        "outputId": "ccc1e4e2-1bd0-4aa4-a5b0-1a4f6fcfde7c"
      },
      "execution_count": null,
      "outputs": [
        {
          "output_type": "display_data",
          "data": {
            "text/plain": "<IPython.core.display.Javascript object>",
            "application/javascript": "parent.postMessage({\"jupyterEvent\": \"custom.exercise_interaction\", \"data\": {\"outcomeType\": 1, \"valueTowardsCompletion\": 1.0, \"interactionType\": 1, \"questionType\": 2, \"questionId\": \"3.1_ImputeCode\", \"learnToolsVersion\": \"0.3.4\", \"failureMessage\": \"\", \"exceptionClass\": \"\", \"trace\": \"\"}}, \"*\")"
          },
          "metadata": {}
        },
        {
          "output_type": "display_data",
          "data": {
            "text/plain": "Correct",
            "text/markdown": "<span style=\"color:#33cc33\">Correct</span>"
          },
          "metadata": {}
        }
      ]
    },
    {
      "cell_type": "code",
      "source": [
        "# Lines below will give you a hint or solution code\n",
        "#step_3.a.hint()\n",
        "#step_3.a.solution()"
      ],
      "metadata": {
        "execution": {
          "iopub.status.busy": "2024-07-16T16:18:24.3256Z",
          "iopub.execute_input": "2024-07-16T16:18:24.326017Z",
          "iopub.status.idle": "2024-07-16T16:18:24.331932Z",
          "shell.execute_reply.started": "2024-07-16T16:18:24.325984Z",
          "shell.execute_reply": "2024-07-16T16:18:24.330517Z"
        },
        "trusted": true,
        "id": "StXpdDMhXByK"
      },
      "execution_count": null,
      "outputs": []
    },
    {
      "cell_type": "markdown",
      "source": [
        "Run the next code cell without changes to obtain the MAE for this approach."
      ],
      "metadata": {
        "id": "rQ8mfJg0XByL"
      }
    },
    {
      "cell_type": "code",
      "source": [
        "print(\"MAE (Imputation):\")\n",
        "print(score_dataset(imputed_X_train, imputed_X_valid, y_train, y_valid))"
      ],
      "metadata": {
        "execution": {
          "iopub.status.busy": "2024-07-16T16:18:26.408852Z",
          "iopub.execute_input": "2024-07-16T16:18:26.409249Z",
          "iopub.status.idle": "2024-07-16T16:18:27.798048Z",
          "shell.execute_reply.started": "2024-07-16T16:18:26.409217Z",
          "shell.execute_reply": "2024-07-16T16:18:27.796703Z"
        },
        "trusted": true,
        "id": "v55hhN3oXByL",
        "outputId": "a21d6154-3c04-4f3a-9ab2-fb7b5ef65ee9"
      },
      "execution_count": null,
      "outputs": [
        {
          "name": "stdout",
          "text": "MAE (Imputation):\n18062.894611872147\n",
          "output_type": "stream"
        }
      ]
    },
    {
      "cell_type": "markdown",
      "source": [
        "### Part B\n",
        "\n",
        "Compare the MAE from each approach.  Does anything surprise you about the results?  Why do you think one approach performed better than the other?"
      ],
      "metadata": {
        "id": "7CPbMf9_XByL"
      }
    },
    {
      "cell_type": "code",
      "source": [
        "# Check your answer (Run this code cell to receive credit!)\n",
        "step_3.b.check()"
      ],
      "metadata": {
        "execution": {
          "iopub.status.busy": "2024-07-16T16:18:30.257216Z",
          "iopub.execute_input": "2024-07-16T16:18:30.257658Z",
          "iopub.status.idle": "2024-07-16T16:18:30.268219Z",
          "shell.execute_reply.started": "2024-07-16T16:18:30.257625Z",
          "shell.execute_reply": "2024-07-16T16:18:30.267162Z"
        },
        "trusted": true,
        "id": "vFpsUvKrXByL",
        "outputId": "ae5cf15b-62d2-4a01-f09b-32597b8641dc"
      },
      "execution_count": null,
      "outputs": [
        {
          "output_type": "display_data",
          "data": {
            "text/plain": "<IPython.core.display.Javascript object>",
            "application/javascript": "parent.postMessage({\"jupyterEvent\": \"custom.exercise_interaction\", \"data\": {\"outcomeType\": 1, \"valueTowardsCompletion\": 1.0, \"interactionType\": 1, \"questionType\": 4, \"questionId\": \"3.2_ImputeThought\", \"learnToolsVersion\": \"0.3.4\", \"failureMessage\": \"\", \"exceptionClass\": \"\", \"trace\": \"\"}}, \"*\")"
          },
          "metadata": {}
        },
        {
          "output_type": "display_data",
          "data": {
            "text/plain": "Correct: \n\nGiven that thre are so few missing values in the dataset, we'd expect imputation to perform better than dropping columns entirely.  However, we see that dropping columns performs slightly better!  While this can probably partially be attributed to noise in the dataset, another potential explanation is that the imputation method is not a great match to this dataset.  That is, maybe instead of filling in the mean value, it makes more sense to set every missing value to a value of 0, to fill in the most frequently encountered value, or to use some other method.  For instance, consider the `GarageYrBlt` column (which indicates the year that the garage was built).  It's likely that in some cases, a missing value could indicate a house that does not have a garage.  Does it make more sense to fill in the median value along each column in this case?  Or could we get better results by filling in the minimum value along each column?  It's not quite clear what's best in this case, but perhaps we can rule out some options immediately - for instance, setting missing values in this column to 0 is likely to yield horrible results!",
            "text/markdown": "<span style=\"color:#33cc33\">Correct:</span> \n\nGiven that thre are so few missing values in the dataset, we'd expect imputation to perform better than dropping columns entirely.  However, we see that dropping columns performs slightly better!  While this can probably partially be attributed to noise in the dataset, another potential explanation is that the imputation method is not a great match to this dataset.  That is, maybe instead of filling in the mean value, it makes more sense to set every missing value to a value of 0, to fill in the most frequently encountered value, or to use some other method.  For instance, consider the `GarageYrBlt` column (which indicates the year that the garage was built).  It's likely that in some cases, a missing value could indicate a house that does not have a garage.  Does it make more sense to fill in the median value along each column in this case?  Or could we get better results by filling in the minimum value along each column?  It's not quite clear what's best in this case, but perhaps we can rule out some options immediately - for instance, setting missing values in this column to 0 is likely to yield horrible results!"
          },
          "metadata": {}
        }
      ]
    },
    {
      "cell_type": "code",
      "source": [
        "#step_3.b.hint()"
      ],
      "metadata": {
        "id": "fS32sUj6XByM"
      },
      "execution_count": null,
      "outputs": []
    },
    {
      "cell_type": "markdown",
      "source": [
        "# Step 4: Generate test predictions\n",
        "\n",
        "In this final step, you'll use any approach of your choosing to deal with missing values.  Once you've preprocessed the training and validation features, you'll train and evaluate a random forest model.  Then, you'll preprocess the test data before generating predictions that can be submitted to the competition!\n",
        "\n",
        "### Part A\n",
        "\n",
        "Use the next code cell to preprocess the training and validation data.  Set the preprocessed DataFrames to `final_X_train` and `final_X_valid`.  **You can use any approach of your choosing here!**  in order for this step to be marked as correct, you need only ensure:\n",
        "- the preprocessed DataFrames have the same number of columns,\n",
        "- the preprocessed DataFrames have no missing values,\n",
        "- `final_X_train` and `y_train` have the same number of rows, and\n",
        "- `final_X_valid` and `y_valid` have the same number of rows."
      ],
      "metadata": {
        "id": "jU9vRmXAXByM"
      }
    },
    {
      "cell_type": "code",
      "source": [
        " #Imputation\n",
        "final_imputer = SimpleImputer(strategy='median')\n",
        "final_X_train = pd.DataFrame(final_imputer.fit_transform(X_train))\n",
        "final_X_valid = pd.DataFrame(final_imputer.transform(X_valid))\n",
        "\n",
        "# Imputation removed column names; put them back\n",
        "final_X_train.columns = X_train.columns\n",
        "final_X_valid.columns = X_valid.columns\n",
        "\n",
        "# Check your answers\n",
        "step_4.a.check()"
      ],
      "metadata": {
        "execution": {
          "iopub.status.busy": "2024-07-16T16:18:54.688314Z",
          "iopub.execute_input": "2024-07-16T16:18:54.689258Z",
          "iopub.status.idle": "2024-07-16T16:18:54.72005Z",
          "shell.execute_reply.started": "2024-07-16T16:18:54.689222Z",
          "shell.execute_reply": "2024-07-16T16:18:54.718743Z"
        },
        "trusted": true,
        "id": "5oj6Cr6sXByM",
        "outputId": "89efdc8f-996f-492d-ad91-79523bbeec7d"
      },
      "execution_count": null,
      "outputs": [
        {
          "output_type": "display_data",
          "data": {
            "text/plain": "<IPython.core.display.Javascript object>",
            "application/javascript": "parent.postMessage({\"jupyterEvent\": \"custom.exercise_interaction\", \"data\": {\"outcomeType\": 1, \"valueTowardsCompletion\": 1.0, \"interactionType\": 1, \"questionType\": 2, \"questionId\": \"4.1_PredsCodeA\", \"learnToolsVersion\": \"0.3.4\", \"failureMessage\": \"\", \"exceptionClass\": \"\", \"trace\": \"\"}}, \"*\")"
          },
          "metadata": {}
        },
        {
          "output_type": "display_data",
          "data": {
            "text/plain": "Correct",
            "text/markdown": "<span style=\"color:#33cc33\">Correct</span>"
          },
          "metadata": {}
        }
      ]
    },
    {
      "cell_type": "code",
      "source": [
        "# Lines below will give you a hint or solution code\n",
        "#step_4.a.hint()\n",
        "#step_4.a.solution()"
      ],
      "metadata": {
        "execution": {
          "iopub.status.busy": "2024-07-16T16:18:57.691639Z",
          "iopub.execute_input": "2024-07-16T16:18:57.692052Z",
          "iopub.status.idle": "2024-07-16T16:18:57.697235Z",
          "shell.execute_reply.started": "2024-07-16T16:18:57.69202Z",
          "shell.execute_reply": "2024-07-16T16:18:57.69584Z"
        },
        "trusted": true,
        "id": "SVCuiEACXByM"
      },
      "execution_count": null,
      "outputs": []
    },
    {
      "cell_type": "markdown",
      "source": [
        "Run the next code cell to train and evaluate a random forest model.  (*Note that we don't use the `score_dataset()` function above, because we will soon use the trained model to generate test predictions!*)"
      ],
      "metadata": {
        "id": "NjRKYVkzXByN"
      }
    },
    {
      "cell_type": "code",
      "source": [
        "# Define and fit model\n",
        "model = RandomForestRegressor(n_estimators=100, random_state=0)\n",
        "model.fit(final_X_train, y_train)\n",
        "\n",
        "# Get validation predictions and MAE\n",
        "preds_valid = model.predict(final_X_valid)\n",
        "print(\"MAE (Your approach):\")\n",
        "print(mean_absolute_error(y_valid, preds_valid))"
      ],
      "metadata": {
        "execution": {
          "iopub.status.busy": "2024-07-16T16:18:59.966854Z",
          "iopub.execute_input": "2024-07-16T16:18:59.96742Z",
          "iopub.status.idle": "2024-07-16T16:19:01.358678Z",
          "shell.execute_reply.started": "2024-07-16T16:18:59.96736Z",
          "shell.execute_reply": "2024-07-16T16:19:01.357633Z"
        },
        "trusted": true,
        "id": "IQL5kyG-XByN",
        "outputId": "d329d1bb-8dca-4f78-b9a7-99e06ae0c7c0"
      },
      "execution_count": null,
      "outputs": [
        {
          "name": "stdout",
          "text": "MAE (Your approach):\n17791.59899543379\n",
          "output_type": "stream"
        }
      ]
    },
    {
      "cell_type": "markdown",
      "source": [
        "### Part B\n",
        "\n",
        "Use the next code cell to preprocess your test data.  Make sure that you use a method that agrees with how you preprocessed the training and validation data, and set the preprocessed test features to `final_X_test`.\n",
        "\n",
        "Then, use the preprocessed test features and the trained model to generate test predictions in `preds_test`.\n",
        "\n",
        "In order for this step to be marked correct, you need only ensure:\n",
        "- the preprocessed test DataFrame has no missing values, and\n",
        "- `final_X_test` has the same number of rows as `X_test`."
      ],
      "metadata": {
        "id": "vx14Yl8uXByN"
      }
    },
    {
      "cell_type": "code",
      "source": [
        "final_X_test = pd.DataFrame(final_imputer.transform(X_test))\n",
        "\n",
        "# Get test predictions\n",
        "preds_test = model.predict(final_X_test)\n",
        "# Check your answers\n",
        "step_4.b.check()"
      ],
      "metadata": {
        "execution": {
          "iopub.status.busy": "2024-07-16T16:19:17.001719Z",
          "iopub.execute_input": "2024-07-16T16:19:17.00222Z",
          "iopub.status.idle": "2024-07-16T16:19:17.062995Z",
          "shell.execute_reply.started": "2024-07-16T16:19:17.002181Z",
          "shell.execute_reply": "2024-07-16T16:19:17.061705Z"
        },
        "trusted": true,
        "id": "2IebBR9dXByN",
        "outputId": "11b5eb1d-2286-4990-a6b8-01fa8274bc58"
      },
      "execution_count": null,
      "outputs": [
        {
          "name": "stderr",
          "text": "/opt/conda/lib/python3.10/site-packages/sklearn/base.py:439: UserWarning: X does not have valid feature names, but RandomForestRegressor was fitted with feature names\n  warnings.warn(\n",
          "output_type": "stream"
        },
        {
          "output_type": "display_data",
          "data": {
            "text/plain": "<IPython.core.display.Javascript object>",
            "application/javascript": "parent.postMessage({\"jupyterEvent\": \"custom.exercise_interaction\", \"data\": {\"outcomeType\": 1, \"valueTowardsCompletion\": 1.0, \"interactionType\": 1, \"questionType\": 2, \"questionId\": \"4.2_PredsCodeB\", \"learnToolsVersion\": \"0.3.4\", \"failureMessage\": \"\", \"exceptionClass\": \"\", \"trace\": \"\"}}, \"*\")"
          },
          "metadata": {}
        },
        {
          "output_type": "display_data",
          "data": {
            "text/plain": "Correct",
            "text/markdown": "<span style=\"color:#33cc33\">Correct</span>"
          },
          "metadata": {}
        }
      ]
    },
    {
      "cell_type": "code",
      "source": [
        "# Lines below will give you a hint or solution code\n",
        "#step_4.b.hint()\n",
        "#step_4.b.solution()"
      ],
      "metadata": {
        "execution": {
          "iopub.status.busy": "2024-07-16T16:19:22.106199Z",
          "iopub.execute_input": "2024-07-16T16:19:22.107211Z",
          "iopub.status.idle": "2024-07-16T16:19:22.111685Z",
          "shell.execute_reply.started": "2024-07-16T16:19:22.107169Z",
          "shell.execute_reply": "2024-07-16T16:19:22.110157Z"
        },
        "trusted": true,
        "id": "4wF2csxeXByO"
      },
      "execution_count": null,
      "outputs": []
    },
    {
      "cell_type": "markdown",
      "source": [
        "Run the next code cell without changes to save your results to a CSV file that can be submitted directly to the competition."
      ],
      "metadata": {
        "id": "cj1LAwSpXByS"
      }
    },
    {
      "cell_type": "code",
      "source": [
        "# Save test predictions to file\n",
        "output = pd.DataFrame({'Id': X_test.index,\n",
        "                       'SalePrice': preds_test})\n",
        "output.to_csv('submission.csv', index=False)"
      ],
      "metadata": {
        "id": "ViNEfn5bXByT"
      },
      "execution_count": null,
      "outputs": []
    },
    {
      "cell_type": "markdown",
      "source": [
        "# Submit your results\n",
        "\n",
        "Once you have successfully completed Step 4, you're ready to submit your results to the leaderboard!  (_You also learned how to do this in the previous exercise.  If you need a reminder of how to do this, please use the instructions below._)  \n",
        "\n",
        "First, you'll need to join the competition if you haven't already.  So open a new window by clicking on [this link](https://www.kaggle.com/c/home-data-for-ml-course).  Then click on the **Join Competition** button.\n",
        "\n",
        "![join competition image](https://storage.googleapis.com/kaggle-media/learn/images/wLmFtH3.png)\n",
        "\n",
        "Next, follow the instructions below:\n",
        "1. Begin by clicking on the **Save Version** button in the top right corner of the window.  This will generate a pop-up window.  \n",
        "2. Ensure that the **Save and Run All** option is selected, and then click on the **Save** button.\n",
        "3. This generates a window in the bottom left corner of the notebook.  After it has finished running, click on the number to the right of the **Save Version** button.  This pulls up a list of versions on the right of the screen.  Click on the ellipsis **(...)** to the right of the most recent version, and select **Open in Viewer**.  This brings you into view mode of the same page. You will need to scroll down to get back to these instructions.\n",
        "4. Click on the **Data** tab near the top of the screen.  Then, click on the file you would like to submit, and click on the **Submit** button to submit your results to the leaderboard.\n",
        "\n",
        "You have now successfully submitted to the competition!\n",
        "\n",
        "If you want to keep working to improve your performance, select the **Edit** button in the top right of the screen. Then you can change your code and repeat the process. There's a lot of room to improve, and you will climb up the leaderboard as you work.\n",
        "\n",
        "\n",
        "# Keep going\n",
        "\n",
        "Move on to learn what **[categorical variables](https://www.kaggle.com/alexisbcook/categorical-variables)** are, along with how to incorporate them into your machine learning models.  Categorical variables are very common in real-world data, but you'll get an error if you try to plug them into your models without processing them first!"
      ],
      "metadata": {
        "id": "hqECTkLIXByT"
      }
    },
    {
      "cell_type": "markdown",
      "source": [
        "---\n",
        "\n",
        "\n",
        "\n",
        "\n",
        "*Have questions or comments? Visit the [course discussion forum](https://www.kaggle.com/learn/intermediate-machine-learning/discussion) to chat with other learners.*"
      ],
      "metadata": {
        "id": "t7KYTTt0XByT"
      }
    }
  ]
}