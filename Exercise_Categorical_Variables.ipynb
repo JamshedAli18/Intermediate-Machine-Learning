{
  "metadata": {
    "kernelspec": {
      "name": "python3",
      "display_name": "Python 3",
      "language": "python"
    },
    "language_info": {
      "name": "python",
      "version": "3.10.13",
      "mimetype": "text/x-python",
      "codemirror_mode": {
        "name": "ipython",
        "version": 3
      },
      "pygments_lexer": "ipython3",
      "nbconvert_exporter": "python",
      "file_extension": ".py"
    },
    "kaggle": {
      "accelerator": "none",
      "dataSources": [
        {
          "sourceId": 10211,
          "databundleVersionId": 111096,
          "sourceType": "competition"
        }
      ],
      "isInternetEnabled": false,
      "language": "python",
      "sourceType": "notebook",
      "isGpuEnabled": false
    },
    "colab": {
      "name": "Exercise: Categorical Variables",
      "provenance": [],
      "include_colab_link": true
    }
  },
  "nbformat_minor": 0,
  "nbformat": 4,
  "cells": [
    {
      "cell_type": "markdown",
      "metadata": {
        "id": "view-in-github",
        "colab_type": "text"
      },
      "source": [
        "<a href=\"https://colab.research.google.com/github/JamshedAli18/Intermediate-Machine-Learning/blob/main/Exercise_Categorical_Variables.ipynb\" target=\"_parent\"><img src=\"https://colab.research.google.com/assets/colab-badge.svg\" alt=\"Open In Colab\"/></a>"
      ]
    },
    {
      "source": [
        "\n",
        "# IMPORTANT: RUN THIS CELL IN ORDER TO IMPORT YOUR KAGGLE DATA SOURCES\n",
        "# TO THE CORRECT LOCATION (/kaggle/input) IN YOUR NOTEBOOK,\n",
        "# THEN FEEL FREE TO DELETE THIS CELL.\n",
        "# NOTE: THIS NOTEBOOK ENVIRONMENT DIFFERS FROM KAGGLE'S PYTHON\n",
        "# ENVIRONMENT SO THERE MAY BE MISSING LIBRARIES USED BY YOUR\n",
        "# NOTEBOOK.\n",
        "\n",
        "import os\n",
        "import sys\n",
        "from tempfile import NamedTemporaryFile\n",
        "from urllib.request import urlopen\n",
        "from urllib.parse import unquote, urlparse\n",
        "from urllib.error import HTTPError\n",
        "from zipfile import ZipFile\n",
        "import tarfile\n",
        "import shutil\n",
        "\n",
        "CHUNK_SIZE = 40960\n",
        "DATA_SOURCE_MAPPING = ':https%3A%2F%2Fstorage.googleapis.com%2Fkaggle-competitions-data%2Fkaggle-v2%2F10211%2F111096%2Fbundle%2Farchive.zip%3FX-Goog-Algorithm%3DGOOG4-RSA-SHA256%26X-Goog-Credential%3Dgcp-kaggle-com%2540kaggle-161607.iam.gserviceaccount.com%252F20240716%252Fauto%252Fstorage%252Fgoog4_request%26X-Goog-Date%3D20240716T161502Z%26X-Goog-Expires%3D259200%26X-Goog-SignedHeaders%3Dhost%26X-Goog-Signature%3Db6a04c7d60616ebed664ef09df84cf1c0d7bb78036a8680b36882480d87fa830aba1a50ee6711ae165f9bc60b34527a0274935b3dc62f81d6c55d1ae57becca29ad1cc5f793b1b17a0b70a0ee1892b358d6d8b8b6fe94398a8853100e7ffd1917da347972933e484daa9f8615b5647bae590c681e4d7316e0d643f724337de35dc8425a55f8eae06de1c4625b3472bd30785335f5735d57b2aa1688f2e161b4e42a6caa3da8348c5d81a57737de3798a8beb5c439048c37e49fc52ea92a29b8abfaef5dec753e8b321e90a6ed150b01f9c61ca09f7f2aa2580bb85c5624c6cd229603a06b4b67295dcaa7421edaeb45651ba2345daeb51e3c368b350a9ec2d8b'\n",
        "\n",
        "KAGGLE_INPUT_PATH='/kaggle/input'\n",
        "KAGGLE_WORKING_PATH='/kaggle/working'\n",
        "KAGGLE_SYMLINK='kaggle'\n",
        "\n",
        "!umount /kaggle/input/ 2> /dev/null\n",
        "shutil.rmtree('/kaggle/input', ignore_errors=True)\n",
        "os.makedirs(KAGGLE_INPUT_PATH, 0o777, exist_ok=True)\n",
        "os.makedirs(KAGGLE_WORKING_PATH, 0o777, exist_ok=True)\n",
        "\n",
        "try:\n",
        "  os.symlink(KAGGLE_INPUT_PATH, os.path.join(\"..\", 'input'), target_is_directory=True)\n",
        "except FileExistsError:\n",
        "  pass\n",
        "try:\n",
        "  os.symlink(KAGGLE_WORKING_PATH, os.path.join(\"..\", 'working'), target_is_directory=True)\n",
        "except FileExistsError:\n",
        "  pass\n",
        "\n",
        "for data_source_mapping in DATA_SOURCE_MAPPING.split(','):\n",
        "    directory, download_url_encoded = data_source_mapping.split(':')\n",
        "    download_url = unquote(download_url_encoded)\n",
        "    filename = urlparse(download_url).path\n",
        "    destination_path = os.path.join(KAGGLE_INPUT_PATH, directory)\n",
        "    try:\n",
        "        with urlopen(download_url) as fileres, NamedTemporaryFile() as tfile:\n",
        "            total_length = fileres.headers['content-length']\n",
        "            print(f'Downloading {directory}, {total_length} bytes compressed')\n",
        "            dl = 0\n",
        "            data = fileres.read(CHUNK_SIZE)\n",
        "            while len(data) > 0:\n",
        "                dl += len(data)\n",
        "                tfile.write(data)\n",
        "                done = int(50 * dl / int(total_length))\n",
        "                sys.stdout.write(f\"\\r[{'=' * done}{' ' * (50-done)}] {dl} bytes downloaded\")\n",
        "                sys.stdout.flush()\n",
        "                data = fileres.read(CHUNK_SIZE)\n",
        "            if filename.endswith('.zip'):\n",
        "              with ZipFile(tfile) as zfile:\n",
        "                zfile.extractall(destination_path)\n",
        "            else:\n",
        "              with tarfile.open(tfile.name) as tarfile:\n",
        "                tarfile.extractall(destination_path)\n",
        "            print(f'\\nDownloaded and uncompressed: {directory}')\n",
        "    except HTTPError as e:\n",
        "        print(f'Failed to load (likely expired) {download_url} to path {destination_path}')\n",
        "        continue\n",
        "    except OSError as e:\n",
        "        print(f'Failed to load {download_url} to path {destination_path}')\n",
        "        continue\n",
        "\n",
        "print('Data source import complete.')\n"
      ],
      "metadata": {
        "id": "YGwxBRmqU669"
      },
      "cell_type": "code",
      "outputs": [],
      "execution_count": null
    },
    {
      "cell_type": "markdown",
      "source": [
        "**This notebook is an exercise in the [Intermediate Machine Learning](https://www.kaggle.com/learn/intermediate-machine-learning) course.  You can reference the tutorial at [this link](https://www.kaggle.com/alexisbcook/categorical-variables).**\n",
        "\n",
        "---\n"
      ],
      "metadata": {
        "id": "uqklAu_CU67B"
      }
    },
    {
      "cell_type": "markdown",
      "source": [
        "By encoding **categorical variables**, you'll obtain your best results thus far!\n",
        "\n",
        "# Setup\n",
        "\n",
        "The questions below will give you feedback on your work. Run the following cell to set up the feedback system."
      ],
      "metadata": {
        "id": "frj4jbhsU67D"
      }
    },
    {
      "cell_type": "code",
      "source": [
        "# Set up code checking\n",
        "import os\n",
        "if not os.path.exists(\"../input/train.csv\"):\n",
        "    os.symlink(\"../input/home-data-for-ml-course/train.csv\", \"../input/train.csv\")\n",
        "    os.symlink(\"../input/home-data-for-ml-course/test.csv\", \"../input/test.csv\")\n",
        "from learntools.core import binder\n",
        "binder.bind(globals())\n",
        "from learntools.ml_intermediate.ex3 import *\n",
        "print(\"Setup Complete\")"
      ],
      "metadata": {
        "execution": {
          "iopub.status.busy": "2024-07-16T16:11:12.917864Z",
          "iopub.execute_input": "2024-07-16T16:11:12.918346Z",
          "iopub.status.idle": "2024-07-16T16:11:14.45066Z",
          "shell.execute_reply.started": "2024-07-16T16:11:12.918304Z",
          "shell.execute_reply": "2024-07-16T16:11:14.44914Z"
        },
        "trusted": true,
        "id": "gG8kfxa8U67D",
        "outputId": "9fb94280-2d76-4f0f-fb5b-726837f8c8b3"
      },
      "execution_count": null,
      "outputs": [
        {
          "name": "stdout",
          "text": "Setup Complete\n",
          "output_type": "stream"
        }
      ]
    },
    {
      "cell_type": "markdown",
      "source": [
        "In this exercise, you will work with data from the [Housing Prices Competition for Kaggle Learn Users](https://www.kaggle.com/c/home-data-for-ml-course).\n",
        "\n",
        "![Ames Housing dataset image](https://storage.googleapis.com/kaggle-media/learn/images/lTJVG4e.png)\n",
        "\n",
        "Run the next code cell without changes to load the training and validation sets in `X_train`, `X_valid`, `y_train`, and `y_valid`.  The test set is loaded in `X_test`."
      ],
      "metadata": {
        "id": "HN4gPV0yU67E"
      }
    },
    {
      "cell_type": "code",
      "source": [
        "import pandas as pd\n",
        "from sklearn.model_selection import train_test_split\n",
        "\n",
        "# Read the data\n",
        "X = pd.read_csv('../input/train.csv', index_col='Id')\n",
        "X_test = pd.read_csv('../input/test.csv', index_col='Id')\n",
        "\n",
        "# Remove rows with missing target, separate target from predictors\n",
        "X.dropna(axis=0, subset=['SalePrice'], inplace=True)\n",
        "y = X.SalePrice\n",
        "X.drop(['SalePrice'], axis=1, inplace=True)\n",
        "\n",
        "# To keep things simple, we'll drop columns with missing values\n",
        "cols_with_missing = [col for col in X.columns if X[col].isnull().any()]\n",
        "X.drop(cols_with_missing, axis=1, inplace=True)\n",
        "X_test.drop(cols_with_missing, axis=1, inplace=True)\n",
        "\n",
        "# Break off validation set from training data\n",
        "X_train, X_valid, y_train, y_valid = train_test_split(X, y,\n",
        "                                                      train_size=0.8, test_size=0.2,\n",
        "                                                      random_state=0)"
      ],
      "metadata": {
        "execution": {
          "iopub.status.busy": "2024-07-16T16:11:46.231578Z",
          "iopub.execute_input": "2024-07-16T16:11:46.232574Z",
          "iopub.status.idle": "2024-07-16T16:11:47.07767Z",
          "shell.execute_reply.started": "2024-07-16T16:11:46.232531Z",
          "shell.execute_reply": "2024-07-16T16:11:47.076406Z"
        },
        "trusted": true,
        "id": "f6WGWUDNU67F"
      },
      "execution_count": null,
      "outputs": []
    },
    {
      "cell_type": "markdown",
      "source": [
        "Use the next code cell to print the first five rows of the data."
      ],
      "metadata": {
        "id": "hlKKIwcrU67F"
      }
    },
    {
      "cell_type": "code",
      "source": [
        "X_train.head()"
      ],
      "metadata": {
        "execution": {
          "iopub.status.busy": "2024-07-16T16:11:50.149842Z",
          "iopub.execute_input": "2024-07-16T16:11:50.150319Z",
          "iopub.status.idle": "2024-07-16T16:11:50.186526Z",
          "shell.execute_reply.started": "2024-07-16T16:11:50.150282Z",
          "shell.execute_reply": "2024-07-16T16:11:50.185108Z"
        },
        "trusted": true,
        "id": "PHvxWphwU67G",
        "outputId": "f52050bb-6826-4645-ee6f-1cdf0d146c22"
      },
      "execution_count": null,
      "outputs": [
        {
          "execution_count": 3,
          "output_type": "execute_result",
          "data": {
            "text/plain": "     MSSubClass MSZoning  LotArea Street LotShape LandContour Utilities  \\\nId                                                                        \n619          20       RL    11694   Pave      Reg         Lvl    AllPub   \n871          20       RL     6600   Pave      Reg         Lvl    AllPub   \n93           30       RL    13360   Pave      IR1         HLS    AllPub   \n818          20       RL    13265   Pave      IR1         Lvl    AllPub   \n303          20       RL    13704   Pave      IR1         Lvl    AllPub   \n\n    LotConfig LandSlope Neighborhood  ... OpenPorchSF EnclosedPorch 3SsnPorch  \\\nId                                    ...                                       \n619    Inside       Gtl      NridgHt  ...         108             0         0   \n871    Inside       Gtl        NAmes  ...           0             0         0   \n93     Inside       Gtl      Crawfor  ...           0            44         0   \n818   CulDSac       Gtl      Mitchel  ...          59             0         0   \n303    Corner       Gtl      CollgCr  ...          81             0         0   \n\n    ScreenPorch  PoolArea  MiscVal  MoSold  YrSold SaleType SaleCondition  \nId                                                                         \n619         260         0        0       7    2007      New       Partial  \n871           0         0        0       8    2009       WD        Normal  \n93            0         0        0       8    2009       WD        Normal  \n818           0         0        0       7    2008       WD        Normal  \n303           0         0        0       1    2006       WD        Normal  \n\n[5 rows x 60 columns]",
            "text/html": "<div>\n<style scoped>\n    .dataframe tbody tr th:only-of-type {\n        vertical-align: middle;\n    }\n\n    .dataframe tbody tr th {\n        vertical-align: top;\n    }\n\n    .dataframe thead th {\n        text-align: right;\n    }\n</style>\n<table border=\"1\" class=\"dataframe\">\n  <thead>\n    <tr style=\"text-align: right;\">\n      <th></th>\n      <th>MSSubClass</th>\n      <th>MSZoning</th>\n      <th>LotArea</th>\n      <th>Street</th>\n      <th>LotShape</th>\n      <th>LandContour</th>\n      <th>Utilities</th>\n      <th>LotConfig</th>\n      <th>LandSlope</th>\n      <th>Neighborhood</th>\n      <th>...</th>\n      <th>OpenPorchSF</th>\n      <th>EnclosedPorch</th>\n      <th>3SsnPorch</th>\n      <th>ScreenPorch</th>\n      <th>PoolArea</th>\n      <th>MiscVal</th>\n      <th>MoSold</th>\n      <th>YrSold</th>\n      <th>SaleType</th>\n      <th>SaleCondition</th>\n    </tr>\n    <tr>\n      <th>Id</th>\n      <th></th>\n      <th></th>\n      <th></th>\n      <th></th>\n      <th></th>\n      <th></th>\n      <th></th>\n      <th></th>\n      <th></th>\n      <th></th>\n      <th></th>\n      <th></th>\n      <th></th>\n      <th></th>\n      <th></th>\n      <th></th>\n      <th></th>\n      <th></th>\n      <th></th>\n      <th></th>\n      <th></th>\n    </tr>\n  </thead>\n  <tbody>\n    <tr>\n      <th>619</th>\n      <td>20</td>\n      <td>RL</td>\n      <td>11694</td>\n      <td>Pave</td>\n      <td>Reg</td>\n      <td>Lvl</td>\n      <td>AllPub</td>\n      <td>Inside</td>\n      <td>Gtl</td>\n      <td>NridgHt</td>\n      <td>...</td>\n      <td>108</td>\n      <td>0</td>\n      <td>0</td>\n      <td>260</td>\n      <td>0</td>\n      <td>0</td>\n      <td>7</td>\n      <td>2007</td>\n      <td>New</td>\n      <td>Partial</td>\n    </tr>\n    <tr>\n      <th>871</th>\n      <td>20</td>\n      <td>RL</td>\n      <td>6600</td>\n      <td>Pave</td>\n      <td>Reg</td>\n      <td>Lvl</td>\n      <td>AllPub</td>\n      <td>Inside</td>\n      <td>Gtl</td>\n      <td>NAmes</td>\n      <td>...</td>\n      <td>0</td>\n      <td>0</td>\n      <td>0</td>\n      <td>0</td>\n      <td>0</td>\n      <td>0</td>\n      <td>8</td>\n      <td>2009</td>\n      <td>WD</td>\n      <td>Normal</td>\n    </tr>\n    <tr>\n      <th>93</th>\n      <td>30</td>\n      <td>RL</td>\n      <td>13360</td>\n      <td>Pave</td>\n      <td>IR1</td>\n      <td>HLS</td>\n      <td>AllPub</td>\n      <td>Inside</td>\n      <td>Gtl</td>\n      <td>Crawfor</td>\n      <td>...</td>\n      <td>0</td>\n      <td>44</td>\n      <td>0</td>\n      <td>0</td>\n      <td>0</td>\n      <td>0</td>\n      <td>8</td>\n      <td>2009</td>\n      <td>WD</td>\n      <td>Normal</td>\n    </tr>\n    <tr>\n      <th>818</th>\n      <td>20</td>\n      <td>RL</td>\n      <td>13265</td>\n      <td>Pave</td>\n      <td>IR1</td>\n      <td>Lvl</td>\n      <td>AllPub</td>\n      <td>CulDSac</td>\n      <td>Gtl</td>\n      <td>Mitchel</td>\n      <td>...</td>\n      <td>59</td>\n      <td>0</td>\n      <td>0</td>\n      <td>0</td>\n      <td>0</td>\n      <td>0</td>\n      <td>7</td>\n      <td>2008</td>\n      <td>WD</td>\n      <td>Normal</td>\n    </tr>\n    <tr>\n      <th>303</th>\n      <td>20</td>\n      <td>RL</td>\n      <td>13704</td>\n      <td>Pave</td>\n      <td>IR1</td>\n      <td>Lvl</td>\n      <td>AllPub</td>\n      <td>Corner</td>\n      <td>Gtl</td>\n      <td>CollgCr</td>\n      <td>...</td>\n      <td>81</td>\n      <td>0</td>\n      <td>0</td>\n      <td>0</td>\n      <td>0</td>\n      <td>0</td>\n      <td>1</td>\n      <td>2006</td>\n      <td>WD</td>\n      <td>Normal</td>\n    </tr>\n  </tbody>\n</table>\n<p>5 rows × 60 columns</p>\n</div>"
          },
          "metadata": {}
        }
      ]
    },
    {
      "cell_type": "markdown",
      "source": [
        "Notice that the dataset contains both numerical and categorical variables.  You'll need to encode the categorical data before training a model.\n",
        "\n",
        "To compare different models, you'll use the same `score_dataset()` function from the tutorial.  This function reports the [mean absolute error](https://en.wikipedia.org/wiki/Mean_absolute_error) (MAE) from a random forest model."
      ],
      "metadata": {
        "id": "SDFZagZ7U67H"
      }
    },
    {
      "cell_type": "code",
      "source": [
        "from sklearn.ensemble import RandomForestRegressor\n",
        "from sklearn.metrics import mean_absolute_error\n",
        "\n",
        "# function for comparing different approaches\n",
        "def score_dataset(X_train, X_valid, y_train, y_valid):\n",
        "    model = RandomForestRegressor(n_estimators=100, random_state=0)\n",
        "    model.fit(X_train, y_train)\n",
        "    preds = model.predict(X_valid)\n",
        "    return mean_absolute_error(y_valid, preds)"
      ],
      "metadata": {
        "execution": {
          "iopub.status.busy": "2024-07-16T16:11:54.361924Z",
          "iopub.execute_input": "2024-07-16T16:11:54.362881Z",
          "iopub.status.idle": "2024-07-16T16:11:54.806766Z",
          "shell.execute_reply.started": "2024-07-16T16:11:54.362841Z",
          "shell.execute_reply": "2024-07-16T16:11:54.805232Z"
        },
        "trusted": true,
        "id": "uir3NK4zU67H"
      },
      "execution_count": null,
      "outputs": []
    },
    {
      "cell_type": "markdown",
      "source": [
        "# Step 1: Drop columns with categorical data\n",
        "\n",
        "You'll get started with the most straightforward approach.  Use the code cell below to preprocess the data in `X_train` and `X_valid` to remove columns with categorical data.  Set the preprocessed DataFrames to `drop_X_train` and `drop_X_valid`, respectively.  "
      ],
      "metadata": {
        "id": "yzMafoT5U67I"
      }
    },
    {
      "cell_type": "code",
      "source": [
        "# Drop columns in training and validation data\n",
        "drop_X_train = X_train.select_dtypes(exclude=['object'])\n",
        "drop_X_valid = X_valid.select_dtypes(exclude=['object'])\n",
        "# Check your answers\n",
        "step_1.check()"
      ],
      "metadata": {
        "execution": {
          "iopub.status.busy": "2024-07-16T16:12:11.8143Z",
          "iopub.execute_input": "2024-07-16T16:12:11.815378Z",
          "iopub.status.idle": "2024-07-16T16:12:11.828755Z",
          "shell.execute_reply.started": "2024-07-16T16:12:11.81534Z",
          "shell.execute_reply": "2024-07-16T16:12:11.827562Z"
        },
        "trusted": true,
        "id": "SdKjX8l4U67I",
        "outputId": "420809e7-9380-4457-c3a8-fce86560c317"
      },
      "execution_count": null,
      "outputs": [
        {
          "output_type": "display_data",
          "data": {
            "text/plain": "<IPython.core.display.Javascript object>",
            "application/javascript": "parent.postMessage({\"jupyterEvent\": \"custom.exercise_interaction\", \"data\": {\"outcomeType\": 1, \"valueTowardsCompletion\": 0.5, \"interactionType\": 1, \"questionType\": 2, \"questionId\": \"1_Drop\", \"learnToolsVersion\": \"0.3.4\", \"failureMessage\": \"\", \"exceptionClass\": \"\", \"trace\": \"\"}}, \"*\")"
          },
          "metadata": {}
        },
        {
          "output_type": "display_data",
          "data": {
            "text/plain": "Correct",
            "text/markdown": "<span style=\"color:#33cc33\">Correct</span>"
          },
          "metadata": {}
        }
      ]
    },
    {
      "cell_type": "code",
      "source": [
        "# Lines below will give you a hint or solution code\n",
        "#step_1.hint()\n",
        "#step_1.solution()"
      ],
      "metadata": {
        "execution": {
          "iopub.status.busy": "2024-07-16T16:12:17.823632Z",
          "iopub.execute_input": "2024-07-16T16:12:17.824075Z",
          "iopub.status.idle": "2024-07-16T16:12:17.829137Z",
          "shell.execute_reply.started": "2024-07-16T16:12:17.82404Z",
          "shell.execute_reply": "2024-07-16T16:12:17.827874Z"
        },
        "trusted": true,
        "id": "8TwZ1E24U67J"
      },
      "execution_count": null,
      "outputs": []
    },
    {
      "cell_type": "markdown",
      "source": [
        "Run the next code cell to get the MAE for this approach."
      ],
      "metadata": {
        "id": "iNm2qhTrU67J"
      }
    },
    {
      "cell_type": "code",
      "source": [
        "print(\"MAE from Approach 1 (Drop categorical variables):\")\n",
        "print(score_dataset(drop_X_train, drop_X_valid, y_train, y_valid))"
      ],
      "metadata": {
        "execution": {
          "iopub.status.busy": "2024-07-16T16:12:20.153871Z",
          "iopub.execute_input": "2024-07-16T16:12:20.154474Z",
          "iopub.status.idle": "2024-07-16T16:12:21.51453Z",
          "shell.execute_reply.started": "2024-07-16T16:12:20.154418Z",
          "shell.execute_reply": "2024-07-16T16:12:21.513266Z"
        },
        "trusted": true,
        "id": "Y2vL5_oyU67J",
        "outputId": "d47f0c4d-cb03-4761-e57e-046b568bbcce"
      },
      "execution_count": null,
      "outputs": [
        {
          "name": "stdout",
          "text": "MAE from Approach 1 (Drop categorical variables):\n17837.82570776256\n",
          "output_type": "stream"
        }
      ]
    },
    {
      "cell_type": "markdown",
      "source": [
        "Before jumping into ordinal encoding, we'll investigate the dataset.  Specifically, we'll look at the `'Condition2'` column.  The code cell below prints the unique entries in both the training and validation sets."
      ],
      "metadata": {
        "id": "mlkI_9NBU67J"
      }
    },
    {
      "cell_type": "code",
      "source": [
        "print(\"Unique values in 'Condition2' column in training data:\", X_train['Condition2'].unique())\n",
        "print(\"\\nUnique values in 'Condition2' column in validation data:\", X_valid['Condition2'].unique())"
      ],
      "metadata": {
        "execution": {
          "iopub.status.busy": "2024-07-16T16:12:25.484876Z",
          "iopub.execute_input": "2024-07-16T16:12:25.485309Z",
          "iopub.status.idle": "2024-07-16T16:12:25.49432Z",
          "shell.execute_reply.started": "2024-07-16T16:12:25.485275Z",
          "shell.execute_reply": "2024-07-16T16:12:25.493057Z"
        },
        "trusted": true,
        "id": "EAB9JMEMU67K",
        "outputId": "763a213c-08e9-4931-c42b-de809d6a9f14"
      },
      "execution_count": null,
      "outputs": [
        {
          "name": "stdout",
          "text": "Unique values in 'Condition2' column in training data: ['Norm' 'PosA' 'Feedr' 'PosN' 'Artery' 'RRAe']\n\nUnique values in 'Condition2' column in validation data: ['Norm' 'RRAn' 'RRNn' 'Artery' 'Feedr' 'PosN']\n",
          "output_type": "stream"
        }
      ]
    },
    {
      "cell_type": "markdown",
      "source": [
        "# Step 2: Ordinal encoding\n",
        "\n",
        "### Part A\n",
        "\n",
        "If you now write code to:\n",
        "- fit an ordinal encoder to the training data, and then\n",
        "- use it to transform both the training and validation data,\n",
        "\n",
        "you'll get an error.  Can you see why this is the case?  (_You'll need  to use the above output to answer this question._)"
      ],
      "metadata": {
        "id": "QBdC0ZWzU67K"
      }
    },
    {
      "cell_type": "code",
      "source": [
        "# Check your answer (Run this code cell to receive credit!)\n",
        "step_2.a.check()"
      ],
      "metadata": {
        "execution": {
          "iopub.status.busy": "2024-07-16T16:12:29.620914Z",
          "iopub.execute_input": "2024-07-16T16:12:29.621331Z",
          "iopub.status.idle": "2024-07-16T16:12:29.632441Z",
          "shell.execute_reply.started": "2024-07-16T16:12:29.621301Z",
          "shell.execute_reply": "2024-07-16T16:12:29.631139Z"
        },
        "trusted": true,
        "id": "DC900UjuU67K",
        "outputId": "27dc4619-b641-4a00-95f5-d0bc51c5ad00"
      },
      "execution_count": null,
      "outputs": [
        {
          "output_type": "display_data",
          "data": {
            "text/plain": "<IPython.core.display.Javascript object>",
            "application/javascript": "parent.postMessage({\"jupyterEvent\": \"custom.exercise_interaction\", \"data\": {\"outcomeType\": 1, \"valueTowardsCompletion\": 0.5, \"interactionType\": 1, \"questionType\": 4, \"questionId\": \"2.1_LabelA\", \"learnToolsVersion\": \"0.3.4\", \"failureMessage\": \"\", \"exceptionClass\": \"\", \"trace\": \"\"}}, \"*\")"
          },
          "metadata": {}
        },
        {
          "output_type": "display_data",
          "data": {
            "text/plain": "Correct: \n\nFitting an ordinal encoder to a column in the training data creates a corresponding integer-valued label for each unique value **that appears in the training data**. In the case that the validation data contains values that don't also appear in the training data, the encoder will throw an error, because these values won't have an integer assigned to them.  Notice that the `'Condition2'` column in the validation data contains the values `'RRAn'` and `'RRNn'`, but these don't appear in the training data -- thus, if we try to use an ordinal encoder with scikit-learn, the code will throw an error.",
            "text/markdown": "<span style=\"color:#33cc33\">Correct:</span> \n\nFitting an ordinal encoder to a column in the training data creates a corresponding integer-valued label for each unique value **that appears in the training data**. In the case that the validation data contains values that don't also appear in the training data, the encoder will throw an error, because these values won't have an integer assigned to them.  Notice that the `'Condition2'` column in the validation data contains the values `'RRAn'` and `'RRNn'`, but these don't appear in the training data -- thus, if we try to use an ordinal encoder with scikit-learn, the code will throw an error."
          },
          "metadata": {}
        }
      ]
    },
    {
      "cell_type": "code",
      "source": [
        "#step_2.a.hint()"
      ],
      "metadata": {
        "id": "Icd1Tz8vU67K"
      },
      "execution_count": null,
      "outputs": []
    },
    {
      "cell_type": "markdown",
      "source": [
        "This is a common problem that you'll encounter with real-world data, and there are many approaches to fixing this issue.  For instance, you can write a custom ordinal encoder to deal with new categories.  The simplest approach, however, is to drop the problematic categorical columns.  \n",
        "\n",
        "Run the code cell below to save the problematic columns to a Python list `bad_label_cols`.  Likewise, columns that can be safely ordinal encoded are stored in `good_label_cols`."
      ],
      "metadata": {
        "id": "jZlUuvIdU67K"
      }
    },
    {
      "cell_type": "code",
      "source": [
        "# Categorical columns in the training data\n",
        "object_cols = [col for col in X_train.columns if X_train[col].dtype == \"object\"]\n",
        "\n",
        "# Columns that can be safely ordinal encoded\n",
        "good_label_cols = [col for col in object_cols if\n",
        "                   set(X_valid[col]).issubset(set(X_train[col]))]\n",
        "\n",
        "# Problematic columns that will be dropped from the dataset\n",
        "bad_label_cols = list(set(object_cols)-set(good_label_cols))\n",
        "\n",
        "print('Categorical columns that will be ordinal encoded:', good_label_cols)\n",
        "print('\\nCategorical columns that will be dropped from the dataset:', bad_label_cols)"
      ],
      "metadata": {
        "execution": {
          "iopub.status.busy": "2024-07-16T16:12:34.085017Z",
          "iopub.execute_input": "2024-07-16T16:12:34.085472Z",
          "iopub.status.idle": "2024-07-16T16:12:34.105289Z",
          "shell.execute_reply.started": "2024-07-16T16:12:34.08542Z",
          "shell.execute_reply": "2024-07-16T16:12:34.103732Z"
        },
        "trusted": true,
        "id": "uYWCLRCGU67L",
        "outputId": "849ae446-3ee9-41fb-968e-b605781c8fdb"
      },
      "execution_count": null,
      "outputs": [
        {
          "name": "stdout",
          "text": "Categorical columns that will be ordinal encoded: ['MSZoning', 'Street', 'LotShape', 'LandContour', 'Utilities', 'LotConfig', 'LandSlope', 'Neighborhood', 'Condition1', 'BldgType', 'HouseStyle', 'RoofStyle', 'Exterior1st', 'Exterior2nd', 'ExterQual', 'ExterCond', 'Foundation', 'Heating', 'HeatingQC', 'CentralAir', 'KitchenQual', 'PavedDrive', 'SaleType', 'SaleCondition']\n\nCategorical columns that will be dropped from the dataset: ['Functional', 'RoofMatl', 'Condition2']\n",
          "output_type": "stream"
        }
      ]
    },
    {
      "cell_type": "markdown",
      "source": [
        "### Part B\n",
        "\n",
        "Use the next code cell to ordinal encode the data in `X_train` and `X_valid`.  Set the preprocessed DataFrames to `label_X_train` and `label_X_valid`, respectively.  \n",
        "- We have provided code below to drop the categorical columns in `bad_label_cols` from the dataset.\n",
        "- You should ordinal encode the categorical columns in `good_label_cols`.  "
      ],
      "metadata": {
        "id": "BTByw3iGU67L"
      }
    },
    {
      "cell_type": "code",
      "source": [
        "from sklearn.preprocessing import OrdinalEncoder\n",
        "\n",
        "# Drop categorical columns that will not be encoded\n",
        "label_X_train = X_train.drop(bad_label_cols, axis=1)\n",
        "label_X_valid = X_valid.drop(bad_label_cols, axis=1)\n",
        "\n",
        "# Apply ordinal encoder\n",
        "ordinal_encoder = OrdinalEncoder()\n",
        "label_X_train[good_label_cols] = ordinal_encoder.fit_transform(X_train[good_label_cols])\n",
        "label_X_valid[good_label_cols] = ordinal_encoder.transform(X_valid[good_label_cols])\n",
        "\n",
        "# Check your answer\n",
        "step_2.b.check()"
      ],
      "metadata": {
        "execution": {
          "iopub.status.busy": "2024-07-16T16:13:03.2303Z",
          "iopub.execute_input": "2024-07-16T16:13:03.230752Z",
          "iopub.status.idle": "2024-07-16T16:13:03.286762Z",
          "shell.execute_reply.started": "2024-07-16T16:13:03.230715Z",
          "shell.execute_reply": "2024-07-16T16:13:03.285505Z"
        },
        "trusted": true,
        "id": "fbmEScixU67L",
        "outputId": "d7ff005f-8f8a-408a-bfd7-869fd7122993"
      },
      "execution_count": null,
      "outputs": [
        {
          "output_type": "display_data",
          "data": {
            "text/plain": "<IPython.core.display.Javascript object>",
            "application/javascript": "parent.postMessage({\"jupyterEvent\": \"custom.exercise_interaction\", \"data\": {\"outcomeType\": 1, \"valueTowardsCompletion\": 0.5, \"interactionType\": 1, \"questionType\": 2, \"questionId\": \"2.2_LabelB\", \"learnToolsVersion\": \"0.3.4\", \"failureMessage\": \"\", \"exceptionClass\": \"\", \"trace\": \"\"}}, \"*\")"
          },
          "metadata": {}
        },
        {
          "output_type": "display_data",
          "data": {
            "text/plain": "Correct",
            "text/markdown": "<span style=\"color:#33cc33\">Correct</span>"
          },
          "metadata": {}
        }
      ]
    },
    {
      "cell_type": "code",
      "source": [
        "# Lines below will give you a hint or solution code\n",
        "#step_2.b.hint()\n",
        "#step_2.b.solution()"
      ],
      "metadata": {
        "execution": {
          "iopub.status.busy": "2024-07-16T16:12:55.631136Z",
          "iopub.execute_input": "2024-07-16T16:12:55.631598Z",
          "iopub.status.idle": "2024-07-16T16:12:55.636771Z",
          "shell.execute_reply.started": "2024-07-16T16:12:55.631554Z",
          "shell.execute_reply": "2024-07-16T16:12:55.635467Z"
        },
        "trusted": true,
        "id": "aqwbWrNkU67L"
      },
      "execution_count": null,
      "outputs": []
    },
    {
      "cell_type": "markdown",
      "source": [
        "Run the next code cell to get the MAE for this approach."
      ],
      "metadata": {
        "id": "Ty15W-l5U67L"
      }
    },
    {
      "cell_type": "code",
      "source": [
        "print(\"MAE from Approach 2 (Ordinal Encoding):\")\n",
        "print(score_dataset(label_X_train, label_X_valid, y_train, y_valid))"
      ],
      "metadata": {
        "execution": {
          "iopub.status.busy": "2024-07-16T16:13:06.055058Z",
          "iopub.execute_input": "2024-07-16T16:13:06.055525Z",
          "iopub.status.idle": "2024-07-16T16:13:07.783514Z",
          "shell.execute_reply.started": "2024-07-16T16:13:06.055482Z",
          "shell.execute_reply": "2024-07-16T16:13:07.781961Z"
        },
        "trusted": true,
        "id": "76qbgwf8U67M",
        "outputId": "3e747f07-4a9e-4895-c47e-2c65c2fb3bb8"
      },
      "execution_count": null,
      "outputs": [
        {
          "name": "stdout",
          "text": "MAE from Approach 2 (Ordinal Encoding):\n17098.01649543379\n",
          "output_type": "stream"
        }
      ]
    },
    {
      "cell_type": "markdown",
      "source": [
        "So far, you've tried two different approaches to dealing with categorical variables.  And, you've seen that encoding categorical data yields better results than removing columns from the dataset.\n",
        "\n",
        "Soon, you'll try one-hot encoding.  Before then, there's one additional topic we need to cover.  Begin by running the next code cell without changes.  "
      ],
      "metadata": {
        "id": "HjZGOGpOU67M"
      }
    },
    {
      "cell_type": "code",
      "source": [
        "# Get number of unique entries in each column with categorical data\n",
        "object_nunique = list(map(lambda col: X_train[col].nunique(), object_cols))\n",
        "d = dict(zip(object_cols, object_nunique))\n",
        "\n",
        "# Print number of unique entries by column, in ascending order\n",
        "sorted(d.items(), key=lambda x: x[1])"
      ],
      "metadata": {
        "execution": {
          "iopub.status.busy": "2024-07-16T16:13:09.613007Z",
          "iopub.execute_input": "2024-07-16T16:13:09.613405Z",
          "iopub.status.idle": "2024-07-16T16:13:09.631242Z",
          "shell.execute_reply.started": "2024-07-16T16:13:09.613373Z",
          "shell.execute_reply": "2024-07-16T16:13:09.629641Z"
        },
        "trusted": true,
        "id": "81-Ji4oRU67M",
        "outputId": "618f0729-c203-47a9-d5fa-7ed9b3b3f754"
      },
      "execution_count": null,
      "outputs": [
        {
          "execution_count": 16,
          "output_type": "execute_result",
          "data": {
            "text/plain": "[('Street', 2),\n ('Utilities', 2),\n ('CentralAir', 2),\n ('LandSlope', 3),\n ('PavedDrive', 3),\n ('LotShape', 4),\n ('LandContour', 4),\n ('ExterQual', 4),\n ('KitchenQual', 4),\n ('MSZoning', 5),\n ('LotConfig', 5),\n ('BldgType', 5),\n ('ExterCond', 5),\n ('HeatingQC', 5),\n ('Condition2', 6),\n ('RoofStyle', 6),\n ('Foundation', 6),\n ('Heating', 6),\n ('Functional', 6),\n ('SaleCondition', 6),\n ('RoofMatl', 7),\n ('HouseStyle', 8),\n ('Condition1', 9),\n ('SaleType', 9),\n ('Exterior1st', 15),\n ('Exterior2nd', 16),\n ('Neighborhood', 25)]"
          },
          "metadata": {}
        }
      ]
    },
    {
      "cell_type": "markdown",
      "source": [
        "# Step 3: Investigating cardinality\n",
        "\n",
        "### Part A\n",
        "\n",
        "The output above shows, for each column with categorical data, the number of unique values in the column.  For instance, the `'Street'` column in the training data has two unique values: `'Grvl'` and `'Pave'`, corresponding to a gravel road and a paved road, respectively.\n",
        "\n",
        "We refer to the number of unique entries of a categorical variable as the **cardinality** of that categorical variable.  For instance, the `'Street'` variable has cardinality 2.\n",
        "\n",
        "Use the output above to answer the questions below."
      ],
      "metadata": {
        "id": "wMvO6jPXU67M"
      }
    },
    {
      "cell_type": "code",
      "source": [
        "\n",
        "# How many categorical variables in the training data\n",
        "# have cardinality greater than 10?\n",
        "high_cardinality_numcols = 3\n",
        "\n",
        "# How many columns are needed to one-hot encode the\n",
        "# 'Neighborhood' variable in the training data?\n",
        "num_cols_neighborhood = 25\n",
        "\n",
        "# Check your answers\n",
        "step_3.a.check()"
      ],
      "metadata": {
        "execution": {
          "iopub.status.busy": "2024-07-16T16:13:34.61616Z",
          "iopub.execute_input": "2024-07-16T16:13:34.616613Z",
          "iopub.status.idle": "2024-07-16T16:13:34.628343Z",
          "shell.execute_reply.started": "2024-07-16T16:13:34.616576Z",
          "shell.execute_reply": "2024-07-16T16:13:34.627082Z"
        },
        "trusted": true,
        "id": "6a4Cy8_9U67N",
        "outputId": "c969fa9a-ec1b-4661-c205-71e1ecdc9170"
      },
      "execution_count": null,
      "outputs": [
        {
          "output_type": "display_data",
          "data": {
            "text/plain": "<IPython.core.display.Javascript object>",
            "application/javascript": "parent.postMessage({\"jupyterEvent\": \"custom.exercise_interaction\", \"data\": {\"outcomeType\": 1, \"valueTowardsCompletion\": 0.5, \"interactionType\": 1, \"questionType\": 1, \"questionId\": \"3.1_CardinalityA\", \"learnToolsVersion\": \"0.3.4\", \"failureMessage\": \"\", \"exceptionClass\": \"\", \"trace\": \"\"}}, \"*\")"
          },
          "metadata": {}
        },
        {
          "output_type": "display_data",
          "data": {
            "text/plain": "Correct",
            "text/markdown": "<span style=\"color:#33cc33\">Correct</span>"
          },
          "metadata": {}
        }
      ]
    },
    {
      "cell_type": "code",
      "source": [
        "# Lines below will give you a hint or solution code\n",
        "#step_3.a.hint()\n",
        "#step_3.a.solution()"
      ],
      "metadata": {
        "execution": {
          "iopub.status.busy": "2024-07-16T16:13:38.859429Z",
          "iopub.execute_input": "2024-07-16T16:13:38.859914Z",
          "iopub.status.idle": "2024-07-16T16:13:38.865625Z",
          "shell.execute_reply.started": "2024-07-16T16:13:38.859879Z",
          "shell.execute_reply": "2024-07-16T16:13:38.864151Z"
        },
        "trusted": true,
        "id": "-Af4tCa-U67N"
      },
      "execution_count": null,
      "outputs": []
    },
    {
      "cell_type": "markdown",
      "source": [
        "### Part B\n",
        "\n",
        "For large datasets with many rows, one-hot encoding can greatly expand the size of the dataset.  For this reason, we typically will only one-hot encode columns with relatively low cardinality.  Then, high cardinality columns can either be dropped from the dataset, or we can use ordinal encoding.\n",
        "\n",
        "As an example, consider a dataset with 10,000 rows, and containing one categorical column with 100 unique entries.  \n",
        "- If this column is replaced with the corresponding one-hot encoding, how many entries are added to the dataset?  \n",
        "- If we instead replace the column with the ordinal encoding, how many entries are added?  \n",
        "\n",
        "Use your answers to fill in the lines below."
      ],
      "metadata": {
        "id": "LRAZ_VX2U67N"
      }
    },
    {
      "cell_type": "code",
      "source": [
        "OH_entries_added = 1e4*100 - 1e4\n",
        "\n",
        "# How many entries are added to the dataset by\n",
        "# replacing the column with an ordinal encoding?\n",
        "label_entries_added = 0\n",
        "\n",
        "# Check your answers\n",
        "step_3.b.check()"
      ],
      "metadata": {
        "execution": {
          "iopub.status.busy": "2024-07-16T16:14:02.14336Z",
          "iopub.execute_input": "2024-07-16T16:14:02.143796Z",
          "iopub.status.idle": "2024-07-16T16:14:02.155692Z",
          "shell.execute_reply.started": "2024-07-16T16:14:02.143766Z",
          "shell.execute_reply": "2024-07-16T16:14:02.154341Z"
        },
        "trusted": true,
        "id": "SzgiExpUU67O",
        "outputId": "dc968a6e-d525-4704-c138-eac50b813681"
      },
      "execution_count": null,
      "outputs": [
        {
          "output_type": "display_data",
          "data": {
            "text/plain": "<IPython.core.display.Javascript object>",
            "application/javascript": "parent.postMessage({\"jupyterEvent\": \"custom.exercise_interaction\", \"data\": {\"outcomeType\": 1, \"valueTowardsCompletion\": 0.5, \"interactionType\": 1, \"questionType\": 1, \"questionId\": \"3.2_CardinalityB\", \"learnToolsVersion\": \"0.3.4\", \"failureMessage\": \"\", \"exceptionClass\": \"\", \"trace\": \"\"}}, \"*\")"
          },
          "metadata": {}
        },
        {
          "output_type": "display_data",
          "data": {
            "text/plain": "Correct",
            "text/markdown": "<span style=\"color:#33cc33\">Correct</span>"
          },
          "metadata": {}
        }
      ]
    },
    {
      "cell_type": "code",
      "source": [
        "# Lines below will give you a hint or solution code\n",
        "#step_3.b.hint()\n",
        "#step_3.b.solution()"
      ],
      "metadata": {
        "execution": {
          "iopub.status.busy": "2024-07-16T16:13:57.236184Z",
          "iopub.execute_input": "2024-07-16T16:13:57.237156Z",
          "iopub.status.idle": "2024-07-16T16:13:57.242671Z",
          "shell.execute_reply.started": "2024-07-16T16:13:57.237113Z",
          "shell.execute_reply": "2024-07-16T16:13:57.241204Z"
        },
        "trusted": true,
        "id": "CffVWdsGU67O"
      },
      "execution_count": null,
      "outputs": []
    },
    {
      "cell_type": "markdown",
      "source": [
        "Next, you'll experiment with one-hot encoding.  But, instead of encoding all of the categorical variables in the dataset, you'll only create a one-hot encoding for columns with cardinality less than 10.\n",
        "\n",
        "Run the code cell below without changes to set `low_cardinality_cols` to a Python list containing the columns that will be one-hot encoded.  Likewise, `high_cardinality_cols` contains a list of categorical columns that will be dropped from the dataset."
      ],
      "metadata": {
        "id": "8c8AXEzjU67O"
      }
    },
    {
      "cell_type": "code",
      "source": [
        "# Columns that will be one-hot encoded\n",
        "low_cardinality_cols = [col for col in object_cols if X_train[col].nunique() < 10]\n",
        "\n",
        "# Columns that will be dropped from the dataset\n",
        "high_cardinality_cols = list(set(object_cols)-set(low_cardinality_cols))\n",
        "\n",
        "print('Categorical columns that will be one-hot encoded:', low_cardinality_cols)\n",
        "print('\\nCategorical columns that will be dropped from the dataset:', high_cardinality_cols)"
      ],
      "metadata": {
        "execution": {
          "iopub.status.busy": "2024-07-16T16:14:05.173722Z",
          "iopub.execute_input": "2024-07-16T16:14:05.17418Z",
          "iopub.status.idle": "2024-07-16T16:14:05.190468Z",
          "shell.execute_reply.started": "2024-07-16T16:14:05.174138Z",
          "shell.execute_reply": "2024-07-16T16:14:05.188442Z"
        },
        "trusted": true,
        "id": "SHsbhgn9U67O",
        "outputId": "81d8ea59-168f-44d1-b51e-fe39399d97ef"
      },
      "execution_count": null,
      "outputs": [
        {
          "name": "stdout",
          "text": "Categorical columns that will be one-hot encoded: ['MSZoning', 'Street', 'LotShape', 'LandContour', 'Utilities', 'LotConfig', 'LandSlope', 'Condition1', 'Condition2', 'BldgType', 'HouseStyle', 'RoofStyle', 'RoofMatl', 'ExterQual', 'ExterCond', 'Foundation', 'Heating', 'HeatingQC', 'CentralAir', 'KitchenQual', 'Functional', 'PavedDrive', 'SaleType', 'SaleCondition']\n\nCategorical columns that will be dropped from the dataset: ['Exterior2nd', 'Neighborhood', 'Exterior1st']\n",
          "output_type": "stream"
        }
      ]
    },
    {
      "cell_type": "markdown",
      "source": [
        "# Step 4: One-hot encoding\n",
        "\n",
        "Use the next code cell to one-hot encode the data in `X_train` and `X_valid`.  Set the preprocessed DataFrames to `OH_X_train` and `OH_X_valid`, respectively.  \n",
        "- The full list of categorical columns in the dataset can be found in the Python list `object_cols`.\n",
        "- You should only one-hot encode the categorical columns in `low_cardinality_cols`.  All other categorical columns should be dropped from the dataset."
      ],
      "metadata": {
        "id": "W6VxZqQ4U67O"
      }
    },
    {
      "cell_type": "code",
      "source": [
        "from sklearn.preprocessing import OneHotEncoder\n",
        "\n",
        "# Use as many lines of code as you need!\n",
        " Apply one-hot encoder to each column with categorical data\n",
        "OH_encoder = OneHotEncoder(handle_unknown='ignore', sparse=False)\n",
        "OH_cols_train = pd.DataFrame(OH_encoder.fit_transform(X_train[low_cardinality_cols]))\n",
        "OH_cols_valid = pd.DataFrame(OH_encoder.transform(X_valid[low_cardinality_cols]))\n",
        "\n",
        "# One-hot encoding removed index; put it back\n",
        "OH_cols_train.index = X_train.index\n",
        "OH_cols_valid.index = X_valid.index\n",
        "\n",
        "# Remove categorical columns (will replace with one-hot encoding)\n",
        "num_X_train = X_train.drop(object_cols, axis=1)\n",
        "num_X_valid = X_valid.drop(object_cols, axis=1)\n",
        "\n",
        "# Add one-hot encoded columns to numerical features\n",
        "OH_X_train = pd.concat([num_X_train, OH_cols_train], axis=1)\n",
        "OH_X_valid = pd.concat([num_X_valid, OH_cols_valid], axis=1)\n",
        "\n",
        "# Ensure all columns have string type\n",
        "OH_X_train.columns = OH_X_train.columns.astype(str)\n",
        "OH_X_valid.columns = OH_X_valid.columns.astype(str)\n",
        "# Check your answer\n",
        "step_4.check()"
      ],
      "metadata": {
        "execution": {
          "iopub.status.busy": "2024-07-16T16:14:31.889473Z",
          "iopub.execute_input": "2024-07-16T16:14:31.890847Z",
          "iopub.status.idle": "2024-07-16T16:14:31.905099Z",
          "shell.execute_reply.started": "2024-07-16T16:14:31.890796Z",
          "shell.execute_reply": "2024-07-16T16:14:31.903347Z"
        },
        "trusted": true,
        "id": "0BpnuYIGU67P",
        "outputId": "deac4e6b-f6d0-4826-f6cd-092b4ff40c2e"
      },
      "execution_count": null,
      "outputs": [
        {
          "traceback": [
            "\u001b[0;36m  Cell \u001b[0;32mIn[26], line 4\u001b[0;36m\u001b[0m\n\u001b[0;31m    Apply one-hot encoder to each column with categorical data\u001b[0m\n\u001b[0m    ^\u001b[0m\n\u001b[0;31mIndentationError\u001b[0m\u001b[0;31m:\u001b[0m unexpected indent\n"
          ],
          "ename": "IndentationError",
          "evalue": "unexpected indent (2549358630.py, line 4)",
          "output_type": "error"
        }
      ]
    },
    {
      "cell_type": "code",
      "source": [
        "# Lines below will give you a hint or solution code\n",
        "#step_4.hint()\n",
        "#step_4.solution()"
      ],
      "metadata": {
        "execution": {
          "iopub.status.busy": "2024-07-16T16:14:26.533194Z",
          "iopub.execute_input": "2024-07-16T16:14:26.533719Z",
          "iopub.status.idle": "2024-07-16T16:14:26.540191Z",
          "shell.execute_reply.started": "2024-07-16T16:14:26.533678Z",
          "shell.execute_reply": "2024-07-16T16:14:26.538497Z"
        },
        "trusted": true,
        "id": "6u8erw31U67T"
      },
      "execution_count": null,
      "outputs": []
    },
    {
      "cell_type": "markdown",
      "source": [
        "Run the next code cell to get the MAE for this approach."
      ],
      "metadata": {
        "id": "tIB6oTz7U67U"
      }
    },
    {
      "cell_type": "code",
      "source": [
        "print(\"MAE from Approach 3 (One-Hot Encoding):\")\n",
        "print(score_dataset(OH_X_train, OH_X_valid, y_train, y_valid))"
      ],
      "metadata": {
        "id": "ynnUhatkU67U"
      },
      "execution_count": null,
      "outputs": []
    },
    {
      "cell_type": "markdown",
      "source": [
        "# Generate test predictions and submit your results\n",
        "\n",
        "After you complete Step 4, if you'd like to use what you've learned to submit your results to the leaderboard, you'll need to preprocess the test data before generating predictions.\n",
        "\n",
        "**This step is completely optional, and you do not need to submit results to the leaderboard to successfully complete the exercise.**\n",
        "\n",
        "Check out the previous exercise if you need help with remembering how to [join the competition](https://www.kaggle.com/c/home-data-for-ml-course) or save your results to CSV.  Once you have generated a file with your results, follow the instructions below:\n",
        "1. Begin by clicking on the **Save Version** button in the top right corner of the window.  This will generate a pop-up window.  \n",
        "2. Ensure that the **Save and Run All** option is selected, and then click on the **Save** button.\n",
        "3. This generates a window in the bottom left corner of the notebook.  After it has finished running, click on the number to the right of the **Save Version** button.  This pulls up a list of versions on the right of the screen.  Click on the ellipsis **(...)** to the right of the most recent version, and select **Open in Viewer**.  This brings you into view mode of the same page. You will need to scroll down to get back to these instructions.\n",
        "4. Click on the **Data** tab near the top of the screen.  Then, click on the file you would like to submit, and click on the **Submit** button to submit your results to the leaderboard.\n",
        "\n",
        "You have now successfully submitted to the competition!\n",
        "\n",
        "If you want to keep working to improve your performance, select the **Edit** button in the top right of the screen. Then you can change your code and repeat the process. There's a lot of room to improve, and you will climb up the leaderboard as you work.\n"
      ],
      "metadata": {
        "id": "vTX8-I5UU67U"
      }
    },
    {
      "cell_type": "code",
      "source": [
        "# (Optional) Your code here"
      ],
      "metadata": {
        "id": "3f72y6M3U67U"
      },
      "execution_count": null,
      "outputs": []
    },
    {
      "cell_type": "markdown",
      "source": [
        "# Keep going\n",
        "\n",
        "With missing value handling and categorical encoding, your modeling process is getting complex. This complexity gets worse when you want to save your model to use in the future. The key to managing this complexity is something called **pipelines**.\n",
        "\n",
        "**[Learn to use pipelines](https://www.kaggle.com/alexisbcook/pipelines)** to preprocess datasets with categorical variables, missing values and any other messiness your data throws at you."
      ],
      "metadata": {
        "id": "u0dMQYbiU67U"
      }
    },
    {
      "cell_type": "markdown",
      "source": [
        "---\n",
        "\n",
        "\n",
        "\n",
        "\n",
        "*Have questions or comments? Visit the [course discussion forum](https://www.kaggle.com/learn/intermediate-machine-learning/discussion) to chat with other learners.*"
      ],
      "metadata": {
        "id": "vJxqUqKgU67V"
      }
    }
  ]
}